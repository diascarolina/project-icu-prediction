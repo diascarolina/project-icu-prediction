{
  "nbformat": 4,
  "nbformat_minor": 0,
  "metadata": {
    "colab": {
      "name": "02_machine_learning_and_conclusion.ipynb",
      "provenance": [],
      "collapsed_sections": [],
      "toc_visible": true,
      "authorship_tag": "ABX9TyOeN0VLTGPUaGPJBjhJ5aTd",
      "include_colab_link": true
    },
    "kernelspec": {
      "name": "python3",
      "display_name": "Python 3"
    },
    "language_info": {
      "name": "python"
    }
  },
  "cells": [
    {
      "cell_type": "markdown",
      "metadata": {
        "id": "view-in-github",
        "colab_type": "text"
      },
      "source": [
        "<a href=\"https://colab.research.google.com/github/diascarolina/project-icu-prediction/blob/main/notebooks/02_machine_learning_and_conclusion.ipynb\" target=\"_parent\"><img src=\"https://colab.research.google.com/assets/colab-badge.svg\" alt=\"Open In Colab\"/></a>"
      ]
    },
    {
      "cell_type": "markdown",
      "metadata": {
        "id": "KL5eTHawR4V_"
      },
      "source": [
        "# COVID-19 - Clinical Data to Assess Diagnosis\n",
        "# Part II - Machine Learning and Conclusion\n",
        "\n",
        "<p align=\"center\">\n",
        "  <img width=\"700\" src=\"https://i.imgur.com/wxaTMWn.png\">\n",
        "</p>"
      ]
    },
    {
      "cell_type": "markdown",
      "metadata": {
        "id": "c1-Dn4GonQ-4"
      },
      "source": [
        "- Click [here to go back to Part 1 in Google Colab](https://colab.research.google.com/drive/1GbV_StVWhE5GUlYblbrWsJWzcRP_Dq7f?usp=sharing).\n",
        "\n",
        "- [Project Repository: ICU Prediction](https://github.com/diascarolina/project-icu-prediction)"
      ]
    },
    {
      "cell_type": "markdown",
      "metadata": {
        "id": "g5wiNPIUwfm2"
      },
      "source": [
        "In this part, we'll finally start predicting the ICU admission for COVID-19 patients.\n",
        "\n",
        "For this, we use some machine lerning models and check various metrics in order to compare them and choose the best model for our problem."
      ]
    },
    {
      "cell_type": "markdown",
      "metadata": {
        "id": "ZEsxwU170Leh"
      },
      "source": [
        "# Table of Contents\n",
        "\n",
        "1. [How was this notebook organized](#orga)\n",
        "\n",
        "2. [Libraries & Configurations](#libs)\n",
        "\n",
        "3. [Functions](#funcs)\n",
        "\n",
        "4. [Where did this **data** come from? What kind of **information** do we have in it?](#data)\n",
        "\n",
        "5. [How will the data be **split** between **train** and **test**?](#split)\n",
        "\n",
        "6. [What metric should we choose to start modelling?](#metric)\n",
        "\n",
        "    6.1. [Model 1: Dummy Model](#dummy)\n",
        "\n",
        "    6.2. [Model 2: Lazy Classifier](#lazy)\n",
        "\n",
        "    6.3. [Model 3: RandomForestClassifier](#random)\n",
        "\n",
        "    6.4. [Model 4: LGBMClassifier](#lgbm)\n",
        "\n",
        "    6.5. [Model 5: AdaBoostClassifier](#abc)\n",
        "\n",
        "    6.6. [Model 6: Logistic Regression](#logit)\n",
        "\n",
        "    6.7. [Model 7: XGBoostClassifier](#xgboost)\n",
        "\n",
        "7. [Best Models and Validations](#best)\n",
        "\n",
        "    7.1. [Models Summary](#summ)\n",
        "\n",
        "    7.2. [Feature Importance](#feat)\n",
        "\n",
        "    7.3. [ICU Prediction](#icu)\n",
        "\n",
        "8. [What can we **conclude** from this project?](#conc)\n",
        "\n",
        "9. [Going Forward...](#next)\n",
        "\n",
        "10. [References](#refs)\n",
        "\n",
        "11. [Contacts](#cont)"
      ]
    },
    {
      "cell_type": "markdown",
      "metadata": {
        "id": "MwLtuOCtTDtH"
      },
      "source": [
        "<a name=\"orga\"></a>\n",
        "# 1 How was this notebook organized?"
      ]
    },
    {
      "cell_type": "markdown",
      "metadata": {
        "id": "JQtkTARyTHFT"
      },
      "source": [
        "For this part, we have the following approach:\n",
        "\n",
        "![machine learning steps](https://i.imgur.com/BLDhdVY.png)\n",
        "\n",
        "So, the data we have is the cleaned data from our previous notebook. We'll do a quick recheck to see if everything's in order. Then we will begin with a dummy model to serve as a baseline, followed by the library Lazy Predict, used to test various models and to choose the best from them.\n",
        "\n",
        "After we choose our candidates, we begin tuning the models and their hyperparameters in order to improve our metrics. But what metrics will we use? We'll also take a look at that.\n",
        "\n",
        "Finally, we will choose the best model (or models) that helps us better solve our problem at hand: ICU prediction for COVID-19 patients.\n",
        "\n",
        "Last but not least, we'll see our conclusions about this project and what can be improved and learned from this problem."
      ]
    },
    {
      "cell_type": "markdown",
      "metadata": {
        "id": "L-OLR1euwCpt"
      },
      "source": [
        "<a name=\"libs\"></a>\n",
        "# 2 Libraries & Configurations"
      ]
    },
    {
      "cell_type": "code",
      "metadata": {
        "id": "bNXTUWrFQoe8",
        "colab": {
          "base_uri": "https://localhost:8080/"
        },
        "outputId": "70748fdc-980f-41de-aea6-bf981df796ee"
      },
      "source": [
        "import pandas as pd\n",
        "import numpy as np\n",
        "import matplotlib.pyplot as plt\n",
        "import seaborn as sns\n",
        "import itertools\n",
        "\n",
        "from sklearn.model_selection import train_test_split, cross_validate\n",
        "from sklearn.model_selection import GridSearchCV, RandomizedSearchCV\n",
        "from sklearn.model_selection import RepeatedStratifiedKFold, StratifiedKFold\n",
        "from sklearn.dummy import DummyClassifier\n",
        "from sklearn.linear_model import LogisticRegression\n",
        "from sklearn.ensemble import RandomForestClassifier, AdaBoostClassifier\n",
        "from sklearn.metrics import accuracy_score, plot_confusion_matrix, confusion_matrix\n",
        "from sklearn.metrics import classification_report, roc_auc_score\n",
        "\n",
        "from sklearn.metrics import roc_curve, plot_roc_curve\n",
        "from sklearn.metrics import precision_recall_curve, f1_score, auc\n",
        "\n",
        "import lightgbm as lgb\n",
        "from xgboost import XGBClassifier\n",
        "\n",
        "# uncomment to install the library\n",
        "#!pip3 install lazypredict\n",
        "from lazypredict.Supervised import LazyClassifier"
      ],
      "execution_count": null,
      "outputs": [
        {
          "output_type": "stream",
          "text": [
            "/usr/local/lib/python3.7/dist-packages/sklearn/utils/deprecation.py:143: FutureWarning: The sklearn.utils.testing module is  deprecated in version 0.22 and will be removed in version 0.24. The corresponding classes / functions should instead be imported from sklearn.utils. Anything that cannot be imported from sklearn.utils is now part of the private API.\n",
            "  warnings.warn(message, FutureWarning)\n"
          ],
          "name": "stderr"
        }
      ]
    },
    {
      "cell_type": "code",
      "metadata": {
        "id": "OAU3DEHmhjYF"
      },
      "source": [
        "# defining some colors\n",
        "GRAY1, GRAY2, GRAY3 = '#231F20', '#414040', '#555655'\n",
        "GRAY4, GRAY5, GRAY6 = '#646369', '#76787B', '#828282'\n",
        "BLUE1, BLUE2, BLUE3, BLUE4 = '#174A7E', '#4A81BF', '#94B2D7', '#94AFC5'\n",
        "RED1, RED2 = '#C3514E', '#E6BAB7'\n",
        "GREEN1, GREEN2 = '#0C8040', '#9ABB59'\n",
        "\n",
        "# charts fonts\n",
        "plt.rcParams['font.family'] = 'Arial'\n",
        "plt.rcParams['mathtext.fontset'] = 'custom'\n",
        "plt.rcParams['mathtext.bf'] = 'Arial:bold'\n",
        "plt.rcParams['mathtext.it'] = 'Arial:italic'"
      ],
      "execution_count": null,
      "outputs": []
    },
    {
      "cell_type": "code",
      "metadata": {
        "id": "liitnK0nYFt2"
      },
      "source": [
        "# let's set a seed to be used throughout the notebook\n",
        "rs = 84097\n",
        "np.random.seed(rs)"
      ],
      "execution_count": null,
      "outputs": []
    },
    {
      "cell_type": "markdown",
      "metadata": {
        "id": "DJHwfhe24ehy"
      },
      "source": [
        "<a name=\"funcs\"></a>\n",
        "# 3 Functions"
      ]
    },
    {
      "cell_type": "markdown",
      "metadata": {
        "id": "Xqecx6JRU1f4"
      },
      "source": [
        "Some useful functions that will be used later on but they don't really have a good place to stay inside the bulk of the notebook itself.\n",
        "\n",
        "And I prefer to keep them here instead of a separate script for now."
      ]
    },
    {
      "cell_type": "code",
      "metadata": {
        "id": "D3_apDVp4ljR"
      },
      "source": [
        "def run_cv_model(model, data:pd.DataFrame, n_splits:int, n_repeats:int):\n",
        "    '''\n",
        "    This function runs a previously instantiated models using a \n",
        "    cross-validation approach.\n",
        "\n",
        "    Input:\n",
        "    model -> a previously instatiated machine learning model\n",
        "\n",
        "    data -> a pandas dataframe\n",
        "\n",
        "    n_splits -> an integer representing the number of times we'll split our data\n",
        "\n",
        "    n_repeats -> an integer representing the number of times our cross-validation will be repeated\n",
        "\n",
        "    Output:\n",
        "    The results of a print function detailing the Average AUC scores from the runs and\n",
        "    the 95% confidence interval for the given data.\n",
        "    '''\n",
        "    np.random.seed(rs)\n",
        "    \n",
        "    data = data.sample(frac = 1).reset_index(drop = True)\n",
        "    y = data['ICU']\n",
        "    X = data.drop(['ICU'], axis = 1)\n",
        "        \n",
        "    cv = RepeatedStratifiedKFold(n_splits = n_splits, n_repeats = n_repeats)\n",
        "    results = cross_validate(model, X, y, cv = cv, scoring = 'roc_auc', return_train_score = True)\n",
        "    \n",
        "    avg_auc = np.mean(results['test_score'])\n",
        "    avg_auc_train = np.mean(results['train_score'])\n",
        "    auc_std = np.std(results['test_score'])\n",
        "    \n",
        "    print(f'Average AUC Score: {avg_auc}')\n",
        "    print(f'AUC 95% Confidence Interval: {avg_auc - 2 * auc_std} to {avg_auc + 2 * auc_std}')"
      ],
      "execution_count": null,
      "outputs": []
    },
    {
      "cell_type": "code",
      "metadata": {
        "id": "9IFraZQuoiha"
      },
      "source": [
        "def organize_metrics(model_initials:str):\n",
        "    '''\n",
        "    Function used to create a list with all the model's calculated metrics,\n",
        "    for organization purposes. The naming of the metrics must be consistent\n",
        "    throughout all notebook.\n",
        "\n",
        "    Input:\n",
        "    model_initials -> the chosen initials for the machine learning model\n",
        "\n",
        "    Output:\n",
        "    metrics -> a list containing the model's calculated metrics\n",
        "    '''\n",
        "    metrics = [\n",
        "               round(eval(model_initials + '_accuracy'), 2),\n",
        "               round(eval(model_initials + '_avg_auc'), 2),\n",
        "               round(eval(model_initials + '_dict')['0']['f1-score'], 2),\n",
        "               round(eval(model_initials + '_dict')['1']['f1-score'], 2),\n",
        "               round(eval(model_initials + '_dict')['0']['precision'], 2),\n",
        "               round(eval(model_initials + '_dict')['1']['precision'], 2),\n",
        "               round(eval(model_initials + '_dict')['0']['recall'], 2), \n",
        "               round(eval(model_initials + '_dict')['1']['recall'], 2)\n",
        "              ]\n",
        "\n",
        "    return metrics"
      ],
      "execution_count": null,
      "outputs": []
    },
    {
      "cell_type": "code",
      "metadata": {
        "id": "xW6mv_UZBKkF"
      },
      "source": [
        "# adapted from: https://stackoverflow.com/questions/59839782/confusion-matrix-font-size\n",
        "\n",
        "def confusion_matrix_plot(y_pred, title = 'Confusion Matrix', cmap = 'GnBu'):\n",
        "    '''\n",
        "    Plots a confusion matrix. The difference from the scikit-learn function to plot\n",
        "    the confusion matrix is that here we can increase the fontsize when need.\n",
        "\n",
        "    Input:\n",
        "    y_pred -> the prediction obtained from the model\n",
        "    title -> the title of the chart, default is \"Confusion Matrix\"\n",
        "    cmap -> the colormap used, default is \"Blues\"\n",
        "\n",
        "    Output:\n",
        "    a chart with the customized confusion matrix\n",
        "    '''\n",
        "    cm = confusion_matrix(y_test, y_pred)\n",
        "    classes = ['Not ICU', 'ICU']\n",
        "    plt.figure(figsize = (10, 7))\n",
        "    plt.imshow(cm, interpolation = 'nearest', cmap = cmap)\n",
        "    plt.title(title, fontsize = 20)\n",
        "    plt.colorbar()\n",
        "    tick_marks = np.arange(len(classes))\n",
        "    plt.xticks(tick_marks, classes, rotation = 0, fontsize = 15)\n",
        "    plt.yticks(tick_marks, classes, rotation = 90, fontsize = 15)\n",
        "    thresh = cm.max()/2\n",
        "    for i, j in itertools.product(range(cm.shape[0]), range(cm.shape[1])):\n",
        "        plt.text(j, i, cm[i, j], ha = 'center', fontsize = 15,\n",
        "                 color = 'white' if cm[i, j] > thresh else 'black')\n",
        "        plt.tight_layout()\n",
        "        plt.ylabel('True Label', fontsize = 20)\n",
        "        plt.xlabel('Predicted Label', fontsize = 20)"
      ],
      "execution_count": null,
      "outputs": []
    },
    {
      "cell_type": "markdown",
      "metadata": {
        "id": "AavmbWgqxzpp"
      },
      "source": [
        "<a name=\"data\"></a>\n",
        "# 4 Where did this **data** come from? What kind of **information** do we have in it?"
      ]
    },
    {
      "cell_type": "markdown",
      "metadata": {
        "id": "Ov638oh_x7lp"
      },
      "source": [
        "Here we'll use the cleaned and final dataset obtained from the first notebook.\n",
        "\n",
        "The downloaded data was uploaded to Github and it's available [here](https://raw.githubusercontent.com/diascarolina/data-science-bootcamp/main/data/final_data.csv).\n",
        "\n",
        "We ended up with:\n",
        "\n",
        "- 352 rows, each representing a patient;\n",
        "- 98 features\n",
        "- 1 target variable: ICU\n",
        "\n"
      ]
    },
    {
      "cell_type": "code",
      "metadata": {
        "id": "sFCYPM9iSNzY"
      },
      "source": [
        "data_url = 'https://raw.githubusercontent.com/diascarolina/data-science-bootcamp/main/data/final_data.csv'\n",
        "data = pd.read_csv(data_url)"
      ],
      "execution_count": null,
      "outputs": []
    },
    {
      "cell_type": "code",
      "metadata": {
        "colab": {
          "base_uri": "https://localhost:8080/",
          "height": 289
        },
        "id": "qf-3pBviSV9J",
        "outputId": "797d68bc-3dcb-4968-edd2-71d1b405990e"
      },
      "source": [
        "data.head()"
      ],
      "execution_count": null,
      "outputs": [
        {
          "output_type": "execute_result",
          "data": {
            "text/html": [
              "<div>\n",
              "<style scoped>\n",
              "    .dataframe tbody tr th:only-of-type {\n",
              "        vertical-align: middle;\n",
              "    }\n",
              "\n",
              "    .dataframe tbody tr th {\n",
              "        vertical-align: top;\n",
              "    }\n",
              "\n",
              "    .dataframe thead th {\n",
              "        text-align: right;\n",
              "    }\n",
              "</style>\n",
              "<table border=\"1\" class=\"dataframe\">\n",
              "  <thead>\n",
              "    <tr style=\"text-align: right;\">\n",
              "      <th></th>\n",
              "      <th>AGE_ABOVE65</th>\n",
              "      <th>AGE_PERCENTIL</th>\n",
              "      <th>GENDER</th>\n",
              "      <th>DISEASE GROUPING 1</th>\n",
              "      <th>DISEASE GROUPING 2</th>\n",
              "      <th>DISEASE GROUPING 3</th>\n",
              "      <th>DISEASE GROUPING 4</th>\n",
              "      <th>DISEASE GROUPING 5</th>\n",
              "      <th>DISEASE GROUPING 6</th>\n",
              "      <th>HTN</th>\n",
              "      <th>IMMUNOCOMPROMISED</th>\n",
              "      <th>OTHER</th>\n",
              "      <th>ALBUMIN_MEDIAN</th>\n",
              "      <th>ALBUMIN_DIFF</th>\n",
              "      <th>BE_ARTERIAL_MEDIAN</th>\n",
              "      <th>BE_ARTERIAL_DIFF</th>\n",
              "      <th>BE_VENOUS_MEDIAN</th>\n",
              "      <th>BE_VENOUS_DIFF</th>\n",
              "      <th>BIC_ARTERIAL_MEDIAN</th>\n",
              "      <th>BIC_ARTERIAL_DIFF</th>\n",
              "      <th>BIC_VENOUS_MEDIAN</th>\n",
              "      <th>BIC_VENOUS_DIFF</th>\n",
              "      <th>BILLIRUBIN_MEDIAN</th>\n",
              "      <th>BILLIRUBIN_DIFF</th>\n",
              "      <th>BLAST_MEDIAN</th>\n",
              "      <th>BLAST_DIFF</th>\n",
              "      <th>CALCIUM_MEDIAN</th>\n",
              "      <th>CALCIUM_DIFF</th>\n",
              "      <th>CREATININ_MEDIAN</th>\n",
              "      <th>CREATININ_DIFF</th>\n",
              "      <th>FFA_MEDIAN</th>\n",
              "      <th>FFA_DIFF</th>\n",
              "      <th>GGT_MEDIAN</th>\n",
              "      <th>GGT_DIFF</th>\n",
              "      <th>GLUCOSE_MEDIAN</th>\n",
              "      <th>GLUCOSE_DIFF</th>\n",
              "      <th>HEMATOCRITE_MEDIAN</th>\n",
              "      <th>HEMATOCRITE_DIFF</th>\n",
              "      <th>HEMOGLOBIN_DIFF</th>\n",
              "      <th>INR_MEDIAN</th>\n",
              "      <th>...</th>\n",
              "      <th>PH_ARTERIAL_DIFF</th>\n",
              "      <th>PH_VENOUS_MEDIAN</th>\n",
              "      <th>PH_VENOUS_DIFF</th>\n",
              "      <th>PLATELETS_MEDIAN</th>\n",
              "      <th>PLATELETS_DIFF</th>\n",
              "      <th>POTASSIUM_MEDIAN</th>\n",
              "      <th>POTASSIUM_DIFF</th>\n",
              "      <th>SAT02_ARTERIAL_MEDIAN</th>\n",
              "      <th>SAT02_ARTERIAL_DIFF</th>\n",
              "      <th>SAT02_VENOUS_MEDIAN</th>\n",
              "      <th>SAT02_VENOUS_DIFF</th>\n",
              "      <th>SODIUM_MEDIAN</th>\n",
              "      <th>SODIUM_DIFF</th>\n",
              "      <th>TGO_MEDIAN</th>\n",
              "      <th>TGO_DIFF</th>\n",
              "      <th>TGP_MEDIAN</th>\n",
              "      <th>TGP_DIFF</th>\n",
              "      <th>TTPA_MEDIAN</th>\n",
              "      <th>TTPA_DIFF</th>\n",
              "      <th>UREA_MEDIAN</th>\n",
              "      <th>UREA_DIFF</th>\n",
              "      <th>DIMER_MEDIAN</th>\n",
              "      <th>DIMER_DIFF</th>\n",
              "      <th>BLOODPRESSURE_DIASTOLIC_MEAN</th>\n",
              "      <th>BLOODPRESSURE_SISTOLIC_MEAN</th>\n",
              "      <th>HEART_RATE_MEAN</th>\n",
              "      <th>RESPIRATORY_RATE_MEAN</th>\n",
              "      <th>TEMPERATURE_MEAN</th>\n",
              "      <th>OXYGEN_SATURATION_MEAN</th>\n",
              "      <th>RESPIRATORY_RATE_MIN</th>\n",
              "      <th>BLOODPRESSURE_DIASTOLIC_MAX</th>\n",
              "      <th>BLOODPRESSURE_DIASTOLIC_DIFF</th>\n",
              "      <th>BLOODPRESSURE_SISTOLIC_DIFF</th>\n",
              "      <th>HEART_RATE_DIFF</th>\n",
              "      <th>RESPIRATORY_RATE_DIFF</th>\n",
              "      <th>TEMPERATURE_DIFF</th>\n",
              "      <th>OXYGEN_SATURATION_DIFF</th>\n",
              "      <th>HEART_RATE_DIFF_REL</th>\n",
              "      <th>OXYGEN_SATURATION_DIFF_REL</th>\n",
              "      <th>ICU</th>\n",
              "    </tr>\n",
              "  </thead>\n",
              "  <tbody>\n",
              "    <tr>\n",
              "      <th>0</th>\n",
              "      <td>1</td>\n",
              "      <td>5</td>\n",
              "      <td>0</td>\n",
              "      <td>0.00</td>\n",
              "      <td>0.00</td>\n",
              "      <td>0.00</td>\n",
              "      <td>0.00</td>\n",
              "      <td>1.00</td>\n",
              "      <td>1.00</td>\n",
              "      <td>0.00</td>\n",
              "      <td>0.00</td>\n",
              "      <td>1.00</td>\n",
              "      <td>0.61</td>\n",
              "      <td>-1.00</td>\n",
              "      <td>-1.00</td>\n",
              "      <td>-1.00</td>\n",
              "      <td>-1.00</td>\n",
              "      <td>-1.00</td>\n",
              "      <td>-0.32</td>\n",
              "      <td>-1.00</td>\n",
              "      <td>-0.32</td>\n",
              "      <td>-1.00</td>\n",
              "      <td>-0.94</td>\n",
              "      <td>-1.00</td>\n",
              "      <td>-1.00</td>\n",
              "      <td>-1.00</td>\n",
              "      <td>0.18</td>\n",
              "      <td>-1.00</td>\n",
              "      <td>-0.87</td>\n",
              "      <td>-1.00</td>\n",
              "      <td>-0.74</td>\n",
              "      <td>-1.00</td>\n",
              "      <td>-0.95</td>\n",
              "      <td>-1.00</td>\n",
              "      <td>-0.89</td>\n",
              "      <td>-1.00</td>\n",
              "      <td>0.09</td>\n",
              "      <td>-1.00</td>\n",
              "      <td>-1.00</td>\n",
              "      <td>-0.93</td>\n",
              "      <td>...</td>\n",
              "      <td>-1.00</td>\n",
              "      <td>0.36</td>\n",
              "      <td>-1.00</td>\n",
              "      <td>-0.54</td>\n",
              "      <td>-1.00</td>\n",
              "      <td>-0.52</td>\n",
              "      <td>-1.00</td>\n",
              "      <td>0.94</td>\n",
              "      <td>-1.00</td>\n",
              "      <td>0.35</td>\n",
              "      <td>-1.00</td>\n",
              "      <td>-0.03</td>\n",
              "      <td>-1.00</td>\n",
              "      <td>-1.00</td>\n",
              "      <td>-1.00</td>\n",
              "      <td>-0.99</td>\n",
              "      <td>-1.00</td>\n",
              "      <td>-0.83</td>\n",
              "      <td>-1.00</td>\n",
              "      <td>-0.84</td>\n",
              "      <td>-1.00</td>\n",
              "      <td>-0.99</td>\n",
              "      <td>-1.00</td>\n",
              "      <td>0.09</td>\n",
              "      <td>-0.23</td>\n",
              "      <td>-0.28</td>\n",
              "      <td>-0.59</td>\n",
              "      <td>-0.29</td>\n",
              "      <td>0.74</td>\n",
              "      <td>-0.50</td>\n",
              "      <td>-0.25</td>\n",
              "      <td>-1.00</td>\n",
              "      <td>-1.00</td>\n",
              "      <td>-1.00</td>\n",
              "      <td>-1.00</td>\n",
              "      <td>-1.00</td>\n",
              "      <td>-1.00</td>\n",
              "      <td>-1.00</td>\n",
              "      <td>-1.00</td>\n",
              "      <td>1</td>\n",
              "    </tr>\n",
              "    <tr>\n",
              "      <th>1</th>\n",
              "      <td>0</td>\n",
              "      <td>0</td>\n",
              "      <td>0</td>\n",
              "      <td>0.00</td>\n",
              "      <td>0.00</td>\n",
              "      <td>0.00</td>\n",
              "      <td>0.00</td>\n",
              "      <td>0.00</td>\n",
              "      <td>0.00</td>\n",
              "      <td>0.00</td>\n",
              "      <td>0.00</td>\n",
              "      <td>1.00</td>\n",
              "      <td>0.61</td>\n",
              "      <td>-1.00</td>\n",
              "      <td>-1.00</td>\n",
              "      <td>-1.00</td>\n",
              "      <td>-1.00</td>\n",
              "      <td>-1.00</td>\n",
              "      <td>-0.32</td>\n",
              "      <td>-1.00</td>\n",
              "      <td>-0.32</td>\n",
              "      <td>-1.00</td>\n",
              "      <td>-0.94</td>\n",
              "      <td>-1.00</td>\n",
              "      <td>-1.00</td>\n",
              "      <td>-1.00</td>\n",
              "      <td>0.36</td>\n",
              "      <td>-1.00</td>\n",
              "      <td>-0.91</td>\n",
              "      <td>-1.00</td>\n",
              "      <td>-0.74</td>\n",
              "      <td>-1.00</td>\n",
              "      <td>-0.96</td>\n",
              "      <td>-1.00</td>\n",
              "      <td>-0.78</td>\n",
              "      <td>-1.00</td>\n",
              "      <td>0.14</td>\n",
              "      <td>-1.00</td>\n",
              "      <td>-1.00</td>\n",
              "      <td>-0.96</td>\n",
              "      <td>...</td>\n",
              "      <td>-1.00</td>\n",
              "      <td>0.36</td>\n",
              "      <td>-1.00</td>\n",
              "      <td>-0.40</td>\n",
              "      <td>-1.00</td>\n",
              "      <td>-0.70</td>\n",
              "      <td>-1.00</td>\n",
              "      <td>0.94</td>\n",
              "      <td>-1.00</td>\n",
              "      <td>0.35</td>\n",
              "      <td>-1.00</td>\n",
              "      <td>0.09</td>\n",
              "      <td>-1.00</td>\n",
              "      <td>-1.00</td>\n",
              "      <td>-1.00</td>\n",
              "      <td>-0.99</td>\n",
              "      <td>-1.00</td>\n",
              "      <td>-0.85</td>\n",
              "      <td>-1.00</td>\n",
              "      <td>-0.84</td>\n",
              "      <td>-1.00</td>\n",
              "      <td>-0.98</td>\n",
              "      <td>-1.00</td>\n",
              "      <td>-0.49</td>\n",
              "      <td>-0.69</td>\n",
              "      <td>-0.05</td>\n",
              "      <td>-0.65</td>\n",
              "      <td>0.36</td>\n",
              "      <td>0.94</td>\n",
              "      <td>-0.71</td>\n",
              "      <td>-0.44</td>\n",
              "      <td>-0.55</td>\n",
              "      <td>-0.53</td>\n",
              "      <td>-0.60</td>\n",
              "      <td>-0.76</td>\n",
              "      <td>-1.00</td>\n",
              "      <td>-0.96</td>\n",
              "      <td>-0.75</td>\n",
              "      <td>-0.96</td>\n",
              "      <td>1</td>\n",
              "    </tr>\n",
              "    <tr>\n",
              "      <th>2</th>\n",
              "      <td>0</td>\n",
              "      <td>3</td>\n",
              "      <td>1</td>\n",
              "      <td>0.00</td>\n",
              "      <td>0.00</td>\n",
              "      <td>0.00</td>\n",
              "      <td>0.00</td>\n",
              "      <td>0.00</td>\n",
              "      <td>0.00</td>\n",
              "      <td>0.00</td>\n",
              "      <td>1.00</td>\n",
              "      <td>1.00</td>\n",
              "      <td>-0.26</td>\n",
              "      <td>-1.00</td>\n",
              "      <td>-1.00</td>\n",
              "      <td>-1.00</td>\n",
              "      <td>-1.00</td>\n",
              "      <td>-1.00</td>\n",
              "      <td>-0.32</td>\n",
              "      <td>-1.00</td>\n",
              "      <td>-0.32</td>\n",
              "      <td>-1.00</td>\n",
              "      <td>-0.97</td>\n",
              "      <td>-1.00</td>\n",
              "      <td>-1.00</td>\n",
              "      <td>-1.00</td>\n",
              "      <td>0.33</td>\n",
              "      <td>-1.00</td>\n",
              "      <td>-0.97</td>\n",
              "      <td>-1.00</td>\n",
              "      <td>-0.19</td>\n",
              "      <td>-1.00</td>\n",
              "      <td>-0.32</td>\n",
              "      <td>-1.00</td>\n",
              "      <td>-0.89</td>\n",
              "      <td>-1.00</td>\n",
              "      <td>-0.20</td>\n",
              "      <td>-1.00</td>\n",
              "      <td>-1.00</td>\n",
              "      <td>-0.96</td>\n",
              "      <td>...</td>\n",
              "      <td>-1.00</td>\n",
              "      <td>0.36</td>\n",
              "      <td>-1.00</td>\n",
              "      <td>-0.56</td>\n",
              "      <td>-1.00</td>\n",
              "      <td>-0.78</td>\n",
              "      <td>-1.00</td>\n",
              "      <td>0.94</td>\n",
              "      <td>-1.00</td>\n",
              "      <td>0.58</td>\n",
              "      <td>-1.00</td>\n",
              "      <td>0.20</td>\n",
              "      <td>-1.00</td>\n",
              "      <td>-0.99</td>\n",
              "      <td>-1.00</td>\n",
              "      <td>-0.96</td>\n",
              "      <td>-1.00</td>\n",
              "      <td>-0.85</td>\n",
              "      <td>-1.00</td>\n",
              "      <td>-0.94</td>\n",
              "      <td>-1.00</td>\n",
              "      <td>-0.98</td>\n",
              "      <td>-1.00</td>\n",
              "      <td>0.01</td>\n",
              "      <td>-0.37</td>\n",
              "      <td>-0.53</td>\n",
              "      <td>-0.46</td>\n",
              "      <td>-0.29</td>\n",
              "      <td>0.68</td>\n",
              "      <td>-0.36</td>\n",
              "      <td>-0.30</td>\n",
              "      <td>-1.00</td>\n",
              "      <td>-1.00</td>\n",
              "      <td>-1.00</td>\n",
              "      <td>-1.00</td>\n",
              "      <td>-1.00</td>\n",
              "      <td>-1.00</td>\n",
              "      <td>-1.00</td>\n",
              "      <td>-1.00</td>\n",
              "      <td>0</td>\n",
              "    </tr>\n",
              "    <tr>\n",
              "      <th>3</th>\n",
              "      <td>0</td>\n",
              "      <td>0</td>\n",
              "      <td>0</td>\n",
              "      <td>0.00</td>\n",
              "      <td>0.00</td>\n",
              "      <td>0.00</td>\n",
              "      <td>0.00</td>\n",
              "      <td>0.00</td>\n",
              "      <td>0.00</td>\n",
              "      <td>0.00</td>\n",
              "      <td>0.00</td>\n",
              "      <td>1.00</td>\n",
              "      <td>0.61</td>\n",
              "      <td>-1.00</td>\n",
              "      <td>-1.00</td>\n",
              "      <td>-1.00</td>\n",
              "      <td>-1.00</td>\n",
              "      <td>-1.00</td>\n",
              "      <td>-0.32</td>\n",
              "      <td>-1.00</td>\n",
              "      <td>-0.32</td>\n",
              "      <td>-1.00</td>\n",
              "      <td>-0.94</td>\n",
              "      <td>-1.00</td>\n",
              "      <td>-1.00</td>\n",
              "      <td>-1.00</td>\n",
              "      <td>0.36</td>\n",
              "      <td>-1.00</td>\n",
              "      <td>-0.91</td>\n",
              "      <td>-1.00</td>\n",
              "      <td>-0.83</td>\n",
              "      <td>-1.00</td>\n",
              "      <td>-0.94</td>\n",
              "      <td>-1.00</td>\n",
              "      <td>-0.85</td>\n",
              "      <td>-1.00</td>\n",
              "      <td>0.36</td>\n",
              "      <td>-1.00</td>\n",
              "      <td>-1.00</td>\n",
              "      <td>-0.96</td>\n",
              "      <td>...</td>\n",
              "      <td>-1.00</td>\n",
              "      <td>0.36</td>\n",
              "      <td>-1.00</td>\n",
              "      <td>-0.46</td>\n",
              "      <td>-1.00</td>\n",
              "      <td>-0.59</td>\n",
              "      <td>-1.00</td>\n",
              "      <td>0.94</td>\n",
              "      <td>-1.00</td>\n",
              "      <td>0.35</td>\n",
              "      <td>-1.00</td>\n",
              "      <td>0.14</td>\n",
              "      <td>-1.00</td>\n",
              "      <td>-1.00</td>\n",
              "      <td>-1.00</td>\n",
              "      <td>-0.99</td>\n",
              "      <td>-1.00</td>\n",
              "      <td>-0.85</td>\n",
              "      <td>-1.00</td>\n",
              "      <td>-0.90</td>\n",
              "      <td>-1.00</td>\n",
              "      <td>-1.00</td>\n",
              "      <td>-1.00</td>\n",
              "      <td>0.33</td>\n",
              "      <td>-0.15</td>\n",
              "      <td>0.16</td>\n",
              "      <td>-0.59</td>\n",
              "      <td>0.29</td>\n",
              "      <td>0.87</td>\n",
              "      <td>-0.57</td>\n",
              "      <td>-0.08</td>\n",
              "      <td>-1.00</td>\n",
              "      <td>-0.88</td>\n",
              "      <td>-0.92</td>\n",
              "      <td>-0.88</td>\n",
              "      <td>-0.95</td>\n",
              "      <td>-0.98</td>\n",
              "      <td>-0.96</td>\n",
              "      <td>-0.98</td>\n",
              "      <td>0</td>\n",
              "    </tr>\n",
              "    <tr>\n",
              "      <th>4</th>\n",
              "      <td>0</td>\n",
              "      <td>0</td>\n",
              "      <td>0</td>\n",
              "      <td>0.00</td>\n",
              "      <td>0.00</td>\n",
              "      <td>0.00</td>\n",
              "      <td>0.00</td>\n",
              "      <td>0.00</td>\n",
              "      <td>0.00</td>\n",
              "      <td>0.00</td>\n",
              "      <td>0.00</td>\n",
              "      <td>1.00</td>\n",
              "      <td>0.61</td>\n",
              "      <td>-1.00</td>\n",
              "      <td>-1.00</td>\n",
              "      <td>-1.00</td>\n",
              "      <td>-1.00</td>\n",
              "      <td>-1.00</td>\n",
              "      <td>-0.32</td>\n",
              "      <td>-1.00</td>\n",
              "      <td>-0.32</td>\n",
              "      <td>-1.00</td>\n",
              "      <td>-0.94</td>\n",
              "      <td>-1.00</td>\n",
              "      <td>-1.00</td>\n",
              "      <td>-1.00</td>\n",
              "      <td>0.36</td>\n",
              "      <td>-1.00</td>\n",
              "      <td>-0.89</td>\n",
              "      <td>-1.00</td>\n",
              "      <td>-0.74</td>\n",
              "      <td>-1.00</td>\n",
              "      <td>-0.96</td>\n",
              "      <td>-1.00</td>\n",
              "      <td>-0.89</td>\n",
              "      <td>-1.00</td>\n",
              "      <td>0.29</td>\n",
              "      <td>-1.00</td>\n",
              "      <td>-1.00</td>\n",
              "      <td>-0.96</td>\n",
              "      <td>...</td>\n",
              "      <td>-1.00</td>\n",
              "      <td>0.36</td>\n",
              "      <td>-1.00</td>\n",
              "      <td>-0.29</td>\n",
              "      <td>-1.00</td>\n",
              "      <td>-0.67</td>\n",
              "      <td>-1.00</td>\n",
              "      <td>0.94</td>\n",
              "      <td>-1.00</td>\n",
              "      <td>0.35</td>\n",
              "      <td>-1.00</td>\n",
              "      <td>0.09</td>\n",
              "      <td>-1.00</td>\n",
              "      <td>-1.00</td>\n",
              "      <td>-1.00</td>\n",
              "      <td>-0.99</td>\n",
              "      <td>-1.00</td>\n",
              "      <td>-0.85</td>\n",
              "      <td>-1.00</td>\n",
              "      <td>-0.88</td>\n",
              "      <td>-1.00</td>\n",
              "      <td>-1.00</td>\n",
              "      <td>-1.00</td>\n",
              "      <td>-0.04</td>\n",
              "      <td>-0.54</td>\n",
              "      <td>-0.54</td>\n",
              "      <td>-0.53</td>\n",
              "      <td>-0.20</td>\n",
              "      <td>0.82</td>\n",
              "      <td>-0.43</td>\n",
              "      <td>-0.25</td>\n",
              "      <td>-0.83</td>\n",
              "      <td>-0.75</td>\n",
              "      <td>-0.98</td>\n",
              "      <td>-1.00</td>\n",
              "      <td>-0.98</td>\n",
              "      <td>-0.98</td>\n",
              "      <td>-0.99</td>\n",
              "      <td>-0.98</td>\n",
              "      <td>0</td>\n",
              "    </tr>\n",
              "  </tbody>\n",
              "</table>\n",
              "<p>5 rows × 99 columns</p>\n",
              "</div>"
            ],
            "text/plain": [
              "   AGE_ABOVE65  AGE_PERCENTIL  ...  OXYGEN_SATURATION_DIFF_REL  ICU\n",
              "0            1              5  ...                       -1.00    1\n",
              "1            0              0  ...                       -0.96    1\n",
              "2            0              3  ...                       -1.00    0\n",
              "3            0              0  ...                       -0.98    0\n",
              "4            0              0  ...                       -0.98    0\n",
              "\n",
              "[5 rows x 99 columns]"
            ]
          },
          "metadata": {
            "tags": []
          },
          "execution_count": 8
        }
      ]
    },
    {
      "cell_type": "code",
      "metadata": {
        "colab": {
          "base_uri": "https://localhost:8080/"
        },
        "id": "VHUMpNoCXWqC",
        "outputId": "bf44d747-588f-4623-e9f6-853a888f8149"
      },
      "source": [
        "data.shape"
      ],
      "execution_count": null,
      "outputs": [
        {
          "output_type": "execute_result",
          "data": {
            "text/plain": [
              "(352, 99)"
            ]
          },
          "metadata": {
            "tags": []
          },
          "execution_count": 9
        }
      ]
    },
    {
      "cell_type": "code",
      "metadata": {
        "colab": {
          "base_uri": "https://localhost:8080/"
        },
        "id": "vkTyWTVKSYtp",
        "outputId": "3cbff1cd-ebec-4a25-a4a9-187943a941f4"
      },
      "source": [
        "# just to be sure that we have no non-numeric values\n",
        "(data.isin([np.nan, np.inf, -np.inf])).sum().sum()"
      ],
      "execution_count": null,
      "outputs": [
        {
          "output_type": "execute_result",
          "data": {
            "text/plain": [
              "0"
            ]
          },
          "metadata": {
            "tags": []
          },
          "execution_count": 10
        }
      ]
    },
    {
      "cell_type": "markdown",
      "metadata": {
        "id": "3siTp3FCS0Q7"
      },
      "source": [
        "We have the ```AGE_PERCENTIL``` as a categorical variable and each category is represented as a number. Seeing as all the other variables have numerical values between -1 and 1, it's better if we change this variable to follow this pattern. So, for each category we'll create a new column for them, with the values 1 if the row has that value, and 0 if not. This is called the One-Hot Enconding (or dummy, in statistics)."
      ]
    },
    {
      "cell_type": "code",
      "metadata": {
        "id": "VSnGTal4SuiA"
      },
      "source": [
        "data_ml = data.copy()\n",
        "data_ml = pd.get_dummies(data_ml, columns = ['AGE_PERCENTIL'])"
      ],
      "execution_count": null,
      "outputs": []
    },
    {
      "cell_type": "code",
      "metadata": {
        "colab": {
          "base_uri": "https://localhost:8080/",
          "height": 289
        },
        "id": "Lf7RKS4yUGNY",
        "outputId": "b6b58c5f-10c6-45ea-9caf-2b6390d38b7d"
      },
      "source": [
        "data_ml.head()"
      ],
      "execution_count": null,
      "outputs": [
        {
          "output_type": "execute_result",
          "data": {
            "text/html": [
              "<div>\n",
              "<style scoped>\n",
              "    .dataframe tbody tr th:only-of-type {\n",
              "        vertical-align: middle;\n",
              "    }\n",
              "\n",
              "    .dataframe tbody tr th {\n",
              "        vertical-align: top;\n",
              "    }\n",
              "\n",
              "    .dataframe thead th {\n",
              "        text-align: right;\n",
              "    }\n",
              "</style>\n",
              "<table border=\"1\" class=\"dataframe\">\n",
              "  <thead>\n",
              "    <tr style=\"text-align: right;\">\n",
              "      <th></th>\n",
              "      <th>AGE_ABOVE65</th>\n",
              "      <th>GENDER</th>\n",
              "      <th>DISEASE GROUPING 1</th>\n",
              "      <th>DISEASE GROUPING 2</th>\n",
              "      <th>DISEASE GROUPING 3</th>\n",
              "      <th>DISEASE GROUPING 4</th>\n",
              "      <th>DISEASE GROUPING 5</th>\n",
              "      <th>DISEASE GROUPING 6</th>\n",
              "      <th>HTN</th>\n",
              "      <th>IMMUNOCOMPROMISED</th>\n",
              "      <th>OTHER</th>\n",
              "      <th>ALBUMIN_MEDIAN</th>\n",
              "      <th>ALBUMIN_DIFF</th>\n",
              "      <th>BE_ARTERIAL_MEDIAN</th>\n",
              "      <th>BE_ARTERIAL_DIFF</th>\n",
              "      <th>BE_VENOUS_MEDIAN</th>\n",
              "      <th>BE_VENOUS_DIFF</th>\n",
              "      <th>BIC_ARTERIAL_MEDIAN</th>\n",
              "      <th>BIC_ARTERIAL_DIFF</th>\n",
              "      <th>BIC_VENOUS_MEDIAN</th>\n",
              "      <th>BIC_VENOUS_DIFF</th>\n",
              "      <th>BILLIRUBIN_MEDIAN</th>\n",
              "      <th>BILLIRUBIN_DIFF</th>\n",
              "      <th>BLAST_MEDIAN</th>\n",
              "      <th>BLAST_DIFF</th>\n",
              "      <th>CALCIUM_MEDIAN</th>\n",
              "      <th>CALCIUM_DIFF</th>\n",
              "      <th>CREATININ_MEDIAN</th>\n",
              "      <th>CREATININ_DIFF</th>\n",
              "      <th>FFA_MEDIAN</th>\n",
              "      <th>FFA_DIFF</th>\n",
              "      <th>GGT_MEDIAN</th>\n",
              "      <th>GGT_DIFF</th>\n",
              "      <th>GLUCOSE_MEDIAN</th>\n",
              "      <th>GLUCOSE_DIFF</th>\n",
              "      <th>HEMATOCRITE_MEDIAN</th>\n",
              "      <th>HEMATOCRITE_DIFF</th>\n",
              "      <th>HEMOGLOBIN_DIFF</th>\n",
              "      <th>INR_MEDIAN</th>\n",
              "      <th>INR_DIFF</th>\n",
              "      <th>...</th>\n",
              "      <th>SAT02_VENOUS_DIFF</th>\n",
              "      <th>SODIUM_MEDIAN</th>\n",
              "      <th>SODIUM_DIFF</th>\n",
              "      <th>TGO_MEDIAN</th>\n",
              "      <th>TGO_DIFF</th>\n",
              "      <th>TGP_MEDIAN</th>\n",
              "      <th>TGP_DIFF</th>\n",
              "      <th>TTPA_MEDIAN</th>\n",
              "      <th>TTPA_DIFF</th>\n",
              "      <th>UREA_MEDIAN</th>\n",
              "      <th>UREA_DIFF</th>\n",
              "      <th>DIMER_MEDIAN</th>\n",
              "      <th>DIMER_DIFF</th>\n",
              "      <th>BLOODPRESSURE_DIASTOLIC_MEAN</th>\n",
              "      <th>BLOODPRESSURE_SISTOLIC_MEAN</th>\n",
              "      <th>HEART_RATE_MEAN</th>\n",
              "      <th>RESPIRATORY_RATE_MEAN</th>\n",
              "      <th>TEMPERATURE_MEAN</th>\n",
              "      <th>OXYGEN_SATURATION_MEAN</th>\n",
              "      <th>RESPIRATORY_RATE_MIN</th>\n",
              "      <th>BLOODPRESSURE_DIASTOLIC_MAX</th>\n",
              "      <th>BLOODPRESSURE_DIASTOLIC_DIFF</th>\n",
              "      <th>BLOODPRESSURE_SISTOLIC_DIFF</th>\n",
              "      <th>HEART_RATE_DIFF</th>\n",
              "      <th>RESPIRATORY_RATE_DIFF</th>\n",
              "      <th>TEMPERATURE_DIFF</th>\n",
              "      <th>OXYGEN_SATURATION_DIFF</th>\n",
              "      <th>HEART_RATE_DIFF_REL</th>\n",
              "      <th>OXYGEN_SATURATION_DIFF_REL</th>\n",
              "      <th>ICU</th>\n",
              "      <th>AGE_PERCENTIL_0</th>\n",
              "      <th>AGE_PERCENTIL_1</th>\n",
              "      <th>AGE_PERCENTIL_2</th>\n",
              "      <th>AGE_PERCENTIL_3</th>\n",
              "      <th>AGE_PERCENTIL_4</th>\n",
              "      <th>AGE_PERCENTIL_5</th>\n",
              "      <th>AGE_PERCENTIL_6</th>\n",
              "      <th>AGE_PERCENTIL_7</th>\n",
              "      <th>AGE_PERCENTIL_8</th>\n",
              "      <th>AGE_PERCENTIL_9</th>\n",
              "    </tr>\n",
              "  </thead>\n",
              "  <tbody>\n",
              "    <tr>\n",
              "      <th>0</th>\n",
              "      <td>1</td>\n",
              "      <td>0</td>\n",
              "      <td>0.00</td>\n",
              "      <td>0.00</td>\n",
              "      <td>0.00</td>\n",
              "      <td>0.00</td>\n",
              "      <td>1.00</td>\n",
              "      <td>1.00</td>\n",
              "      <td>0.00</td>\n",
              "      <td>0.00</td>\n",
              "      <td>1.00</td>\n",
              "      <td>0.61</td>\n",
              "      <td>-1.00</td>\n",
              "      <td>-1.00</td>\n",
              "      <td>-1.00</td>\n",
              "      <td>-1.00</td>\n",
              "      <td>-1.00</td>\n",
              "      <td>-0.32</td>\n",
              "      <td>-1.00</td>\n",
              "      <td>-0.32</td>\n",
              "      <td>-1.00</td>\n",
              "      <td>-0.94</td>\n",
              "      <td>-1.00</td>\n",
              "      <td>-1.00</td>\n",
              "      <td>-1.00</td>\n",
              "      <td>0.18</td>\n",
              "      <td>-1.00</td>\n",
              "      <td>-0.87</td>\n",
              "      <td>-1.00</td>\n",
              "      <td>-0.74</td>\n",
              "      <td>-1.00</td>\n",
              "      <td>-0.95</td>\n",
              "      <td>-1.00</td>\n",
              "      <td>-0.89</td>\n",
              "      <td>-1.00</td>\n",
              "      <td>0.09</td>\n",
              "      <td>-1.00</td>\n",
              "      <td>-1.00</td>\n",
              "      <td>-0.93</td>\n",
              "      <td>-1.00</td>\n",
              "      <td>...</td>\n",
              "      <td>-1.00</td>\n",
              "      <td>-0.03</td>\n",
              "      <td>-1.00</td>\n",
              "      <td>-1.00</td>\n",
              "      <td>-1.00</td>\n",
              "      <td>-0.99</td>\n",
              "      <td>-1.00</td>\n",
              "      <td>-0.83</td>\n",
              "      <td>-1.00</td>\n",
              "      <td>-0.84</td>\n",
              "      <td>-1.00</td>\n",
              "      <td>-0.99</td>\n",
              "      <td>-1.00</td>\n",
              "      <td>0.09</td>\n",
              "      <td>-0.23</td>\n",
              "      <td>-0.28</td>\n",
              "      <td>-0.59</td>\n",
              "      <td>-0.29</td>\n",
              "      <td>0.74</td>\n",
              "      <td>-0.50</td>\n",
              "      <td>-0.25</td>\n",
              "      <td>-1.00</td>\n",
              "      <td>-1.00</td>\n",
              "      <td>-1.00</td>\n",
              "      <td>-1.00</td>\n",
              "      <td>-1.00</td>\n",
              "      <td>-1.00</td>\n",
              "      <td>-1.00</td>\n",
              "      <td>-1.00</td>\n",
              "      <td>1</td>\n",
              "      <td>0</td>\n",
              "      <td>0</td>\n",
              "      <td>0</td>\n",
              "      <td>0</td>\n",
              "      <td>0</td>\n",
              "      <td>1</td>\n",
              "      <td>0</td>\n",
              "      <td>0</td>\n",
              "      <td>0</td>\n",
              "      <td>0</td>\n",
              "    </tr>\n",
              "    <tr>\n",
              "      <th>1</th>\n",
              "      <td>0</td>\n",
              "      <td>0</td>\n",
              "      <td>0.00</td>\n",
              "      <td>0.00</td>\n",
              "      <td>0.00</td>\n",
              "      <td>0.00</td>\n",
              "      <td>0.00</td>\n",
              "      <td>0.00</td>\n",
              "      <td>0.00</td>\n",
              "      <td>0.00</td>\n",
              "      <td>1.00</td>\n",
              "      <td>0.61</td>\n",
              "      <td>-1.00</td>\n",
              "      <td>-1.00</td>\n",
              "      <td>-1.00</td>\n",
              "      <td>-1.00</td>\n",
              "      <td>-1.00</td>\n",
              "      <td>-0.32</td>\n",
              "      <td>-1.00</td>\n",
              "      <td>-0.32</td>\n",
              "      <td>-1.00</td>\n",
              "      <td>-0.94</td>\n",
              "      <td>-1.00</td>\n",
              "      <td>-1.00</td>\n",
              "      <td>-1.00</td>\n",
              "      <td>0.36</td>\n",
              "      <td>-1.00</td>\n",
              "      <td>-0.91</td>\n",
              "      <td>-1.00</td>\n",
              "      <td>-0.74</td>\n",
              "      <td>-1.00</td>\n",
              "      <td>-0.96</td>\n",
              "      <td>-1.00</td>\n",
              "      <td>-0.78</td>\n",
              "      <td>-1.00</td>\n",
              "      <td>0.14</td>\n",
              "      <td>-1.00</td>\n",
              "      <td>-1.00</td>\n",
              "      <td>-0.96</td>\n",
              "      <td>-1.00</td>\n",
              "      <td>...</td>\n",
              "      <td>-1.00</td>\n",
              "      <td>0.09</td>\n",
              "      <td>-1.00</td>\n",
              "      <td>-1.00</td>\n",
              "      <td>-1.00</td>\n",
              "      <td>-0.99</td>\n",
              "      <td>-1.00</td>\n",
              "      <td>-0.85</td>\n",
              "      <td>-1.00</td>\n",
              "      <td>-0.84</td>\n",
              "      <td>-1.00</td>\n",
              "      <td>-0.98</td>\n",
              "      <td>-1.00</td>\n",
              "      <td>-0.49</td>\n",
              "      <td>-0.69</td>\n",
              "      <td>-0.05</td>\n",
              "      <td>-0.65</td>\n",
              "      <td>0.36</td>\n",
              "      <td>0.94</td>\n",
              "      <td>-0.71</td>\n",
              "      <td>-0.44</td>\n",
              "      <td>-0.55</td>\n",
              "      <td>-0.53</td>\n",
              "      <td>-0.60</td>\n",
              "      <td>-0.76</td>\n",
              "      <td>-1.00</td>\n",
              "      <td>-0.96</td>\n",
              "      <td>-0.75</td>\n",
              "      <td>-0.96</td>\n",
              "      <td>1</td>\n",
              "      <td>1</td>\n",
              "      <td>0</td>\n",
              "      <td>0</td>\n",
              "      <td>0</td>\n",
              "      <td>0</td>\n",
              "      <td>0</td>\n",
              "      <td>0</td>\n",
              "      <td>0</td>\n",
              "      <td>0</td>\n",
              "      <td>0</td>\n",
              "    </tr>\n",
              "    <tr>\n",
              "      <th>2</th>\n",
              "      <td>0</td>\n",
              "      <td>1</td>\n",
              "      <td>0.00</td>\n",
              "      <td>0.00</td>\n",
              "      <td>0.00</td>\n",
              "      <td>0.00</td>\n",
              "      <td>0.00</td>\n",
              "      <td>0.00</td>\n",
              "      <td>0.00</td>\n",
              "      <td>1.00</td>\n",
              "      <td>1.00</td>\n",
              "      <td>-0.26</td>\n",
              "      <td>-1.00</td>\n",
              "      <td>-1.00</td>\n",
              "      <td>-1.00</td>\n",
              "      <td>-1.00</td>\n",
              "      <td>-1.00</td>\n",
              "      <td>-0.32</td>\n",
              "      <td>-1.00</td>\n",
              "      <td>-0.32</td>\n",
              "      <td>-1.00</td>\n",
              "      <td>-0.97</td>\n",
              "      <td>-1.00</td>\n",
              "      <td>-1.00</td>\n",
              "      <td>-1.00</td>\n",
              "      <td>0.33</td>\n",
              "      <td>-1.00</td>\n",
              "      <td>-0.97</td>\n",
              "      <td>-1.00</td>\n",
              "      <td>-0.19</td>\n",
              "      <td>-1.00</td>\n",
              "      <td>-0.32</td>\n",
              "      <td>-1.00</td>\n",
              "      <td>-0.89</td>\n",
              "      <td>-1.00</td>\n",
              "      <td>-0.20</td>\n",
              "      <td>-1.00</td>\n",
              "      <td>-1.00</td>\n",
              "      <td>-0.96</td>\n",
              "      <td>-1.00</td>\n",
              "      <td>...</td>\n",
              "      <td>-1.00</td>\n",
              "      <td>0.20</td>\n",
              "      <td>-1.00</td>\n",
              "      <td>-0.99</td>\n",
              "      <td>-1.00</td>\n",
              "      <td>-0.96</td>\n",
              "      <td>-1.00</td>\n",
              "      <td>-0.85</td>\n",
              "      <td>-1.00</td>\n",
              "      <td>-0.94</td>\n",
              "      <td>-1.00</td>\n",
              "      <td>-0.98</td>\n",
              "      <td>-1.00</td>\n",
              "      <td>0.01</td>\n",
              "      <td>-0.37</td>\n",
              "      <td>-0.53</td>\n",
              "      <td>-0.46</td>\n",
              "      <td>-0.29</td>\n",
              "      <td>0.68</td>\n",
              "      <td>-0.36</td>\n",
              "      <td>-0.30</td>\n",
              "      <td>-1.00</td>\n",
              "      <td>-1.00</td>\n",
              "      <td>-1.00</td>\n",
              "      <td>-1.00</td>\n",
              "      <td>-1.00</td>\n",
              "      <td>-1.00</td>\n",
              "      <td>-1.00</td>\n",
              "      <td>-1.00</td>\n",
              "      <td>0</td>\n",
              "      <td>0</td>\n",
              "      <td>0</td>\n",
              "      <td>0</td>\n",
              "      <td>1</td>\n",
              "      <td>0</td>\n",
              "      <td>0</td>\n",
              "      <td>0</td>\n",
              "      <td>0</td>\n",
              "      <td>0</td>\n",
              "      <td>0</td>\n",
              "    </tr>\n",
              "    <tr>\n",
              "      <th>3</th>\n",
              "      <td>0</td>\n",
              "      <td>0</td>\n",
              "      <td>0.00</td>\n",
              "      <td>0.00</td>\n",
              "      <td>0.00</td>\n",
              "      <td>0.00</td>\n",
              "      <td>0.00</td>\n",
              "      <td>0.00</td>\n",
              "      <td>0.00</td>\n",
              "      <td>0.00</td>\n",
              "      <td>1.00</td>\n",
              "      <td>0.61</td>\n",
              "      <td>-1.00</td>\n",
              "      <td>-1.00</td>\n",
              "      <td>-1.00</td>\n",
              "      <td>-1.00</td>\n",
              "      <td>-1.00</td>\n",
              "      <td>-0.32</td>\n",
              "      <td>-1.00</td>\n",
              "      <td>-0.32</td>\n",
              "      <td>-1.00</td>\n",
              "      <td>-0.94</td>\n",
              "      <td>-1.00</td>\n",
              "      <td>-1.00</td>\n",
              "      <td>-1.00</td>\n",
              "      <td>0.36</td>\n",
              "      <td>-1.00</td>\n",
              "      <td>-0.91</td>\n",
              "      <td>-1.00</td>\n",
              "      <td>-0.83</td>\n",
              "      <td>-1.00</td>\n",
              "      <td>-0.94</td>\n",
              "      <td>-1.00</td>\n",
              "      <td>-0.85</td>\n",
              "      <td>-1.00</td>\n",
              "      <td>0.36</td>\n",
              "      <td>-1.00</td>\n",
              "      <td>-1.00</td>\n",
              "      <td>-0.96</td>\n",
              "      <td>-1.00</td>\n",
              "      <td>...</td>\n",
              "      <td>-1.00</td>\n",
              "      <td>0.14</td>\n",
              "      <td>-1.00</td>\n",
              "      <td>-1.00</td>\n",
              "      <td>-1.00</td>\n",
              "      <td>-0.99</td>\n",
              "      <td>-1.00</td>\n",
              "      <td>-0.85</td>\n",
              "      <td>-1.00</td>\n",
              "      <td>-0.90</td>\n",
              "      <td>-1.00</td>\n",
              "      <td>-1.00</td>\n",
              "      <td>-1.00</td>\n",
              "      <td>0.33</td>\n",
              "      <td>-0.15</td>\n",
              "      <td>0.16</td>\n",
              "      <td>-0.59</td>\n",
              "      <td>0.29</td>\n",
              "      <td>0.87</td>\n",
              "      <td>-0.57</td>\n",
              "      <td>-0.08</td>\n",
              "      <td>-1.00</td>\n",
              "      <td>-0.88</td>\n",
              "      <td>-0.92</td>\n",
              "      <td>-0.88</td>\n",
              "      <td>-0.95</td>\n",
              "      <td>-0.98</td>\n",
              "      <td>-0.96</td>\n",
              "      <td>-0.98</td>\n",
              "      <td>0</td>\n",
              "      <td>1</td>\n",
              "      <td>0</td>\n",
              "      <td>0</td>\n",
              "      <td>0</td>\n",
              "      <td>0</td>\n",
              "      <td>0</td>\n",
              "      <td>0</td>\n",
              "      <td>0</td>\n",
              "      <td>0</td>\n",
              "      <td>0</td>\n",
              "    </tr>\n",
              "    <tr>\n",
              "      <th>4</th>\n",
              "      <td>0</td>\n",
              "      <td>0</td>\n",
              "      <td>0.00</td>\n",
              "      <td>0.00</td>\n",
              "      <td>0.00</td>\n",
              "      <td>0.00</td>\n",
              "      <td>0.00</td>\n",
              "      <td>0.00</td>\n",
              "      <td>0.00</td>\n",
              "      <td>0.00</td>\n",
              "      <td>1.00</td>\n",
              "      <td>0.61</td>\n",
              "      <td>-1.00</td>\n",
              "      <td>-1.00</td>\n",
              "      <td>-1.00</td>\n",
              "      <td>-1.00</td>\n",
              "      <td>-1.00</td>\n",
              "      <td>-0.32</td>\n",
              "      <td>-1.00</td>\n",
              "      <td>-0.32</td>\n",
              "      <td>-1.00</td>\n",
              "      <td>-0.94</td>\n",
              "      <td>-1.00</td>\n",
              "      <td>-1.00</td>\n",
              "      <td>-1.00</td>\n",
              "      <td>0.36</td>\n",
              "      <td>-1.00</td>\n",
              "      <td>-0.89</td>\n",
              "      <td>-1.00</td>\n",
              "      <td>-0.74</td>\n",
              "      <td>-1.00</td>\n",
              "      <td>-0.96</td>\n",
              "      <td>-1.00</td>\n",
              "      <td>-0.89</td>\n",
              "      <td>-1.00</td>\n",
              "      <td>0.29</td>\n",
              "      <td>-1.00</td>\n",
              "      <td>-1.00</td>\n",
              "      <td>-0.96</td>\n",
              "      <td>-1.00</td>\n",
              "      <td>...</td>\n",
              "      <td>-1.00</td>\n",
              "      <td>0.09</td>\n",
              "      <td>-1.00</td>\n",
              "      <td>-1.00</td>\n",
              "      <td>-1.00</td>\n",
              "      <td>-0.99</td>\n",
              "      <td>-1.00</td>\n",
              "      <td>-0.85</td>\n",
              "      <td>-1.00</td>\n",
              "      <td>-0.88</td>\n",
              "      <td>-1.00</td>\n",
              "      <td>-1.00</td>\n",
              "      <td>-1.00</td>\n",
              "      <td>-0.04</td>\n",
              "      <td>-0.54</td>\n",
              "      <td>-0.54</td>\n",
              "      <td>-0.53</td>\n",
              "      <td>-0.20</td>\n",
              "      <td>0.82</td>\n",
              "      <td>-0.43</td>\n",
              "      <td>-0.25</td>\n",
              "      <td>-0.83</td>\n",
              "      <td>-0.75</td>\n",
              "      <td>-0.98</td>\n",
              "      <td>-1.00</td>\n",
              "      <td>-0.98</td>\n",
              "      <td>-0.98</td>\n",
              "      <td>-0.99</td>\n",
              "      <td>-0.98</td>\n",
              "      <td>0</td>\n",
              "      <td>1</td>\n",
              "      <td>0</td>\n",
              "      <td>0</td>\n",
              "      <td>0</td>\n",
              "      <td>0</td>\n",
              "      <td>0</td>\n",
              "      <td>0</td>\n",
              "      <td>0</td>\n",
              "      <td>0</td>\n",
              "      <td>0</td>\n",
              "    </tr>\n",
              "  </tbody>\n",
              "</table>\n",
              "<p>5 rows × 108 columns</p>\n",
              "</div>"
            ],
            "text/plain": [
              "   AGE_ABOVE65  GENDER  ...  AGE_PERCENTIL_8  AGE_PERCENTIL_9\n",
              "0            1       0  ...                0                0\n",
              "1            0       0  ...                0                0\n",
              "2            0       1  ...                0                0\n",
              "3            0       0  ...                0                0\n",
              "4            0       0  ...                0                0\n",
              "\n",
              "[5 rows x 108 columns]"
            ]
          },
          "metadata": {
            "tags": []
          },
          "execution_count": 12
        }
      ]
    },
    {
      "cell_type": "code",
      "metadata": {
        "colab": {
          "base_uri": "https://localhost:8080/"
        },
        "id": "_vbNRMDLGaTR",
        "outputId": "6beb4394-cf55-4911-975e-7c7e57a48ca6"
      },
      "source": [
        "data_ml.shape"
      ],
      "execution_count": null,
      "outputs": [
        {
          "output_type": "execute_result",
          "data": {
            "text/plain": [
              "(352, 108)"
            ]
          },
          "metadata": {
            "tags": []
          },
          "execution_count": 13
        }
      ]
    },
    {
      "cell_type": "markdown",
      "metadata": {
        "id": "F4tQ-GNfGT8V"
      },
      "source": [
        "So in this ```data_ml``` dataset we end up with:\n",
        "- 352 rows, one for each patient;\n",
        "- 107 features and\n",
        "- 1 target variable, the ```ICU```."
      ]
    },
    {
      "cell_type": "markdown",
      "metadata": {
        "id": "dv5ifXaUXK4M"
      },
      "source": [
        "<a name=\"split\"></a>\n",
        "# 5 How will the data be split between **train** and **test**?"
      ]
    },
    {
      "cell_type": "markdown",
      "metadata": {
        "id": "s9XAlslIXSh0"
      },
      "source": [
        "We have that our target variable is the ```ICU``` column. So let's set it as our ```y```."
      ]
    },
    {
      "cell_type": "code",
      "metadata": {
        "id": "E-ziglj-XPWa"
      },
      "source": [
        "y = data_ml['ICU']\n",
        "X = data_ml.drop(['ICU'], axis = 1)"
      ],
      "execution_count": null,
      "outputs": []
    },
    {
      "cell_type": "markdown",
      "metadata": {
        "id": "nd39G4mDZVAe"
      },
      "source": [
        "Now, to split the data between train and test, we'll use the default value from the ```train_test_split``` function: 75% of the data to the train set and 25% to the test set."
      ]
    },
    {
      "cell_type": "code",
      "metadata": {
        "id": "3LaxgvaJaL-j"
      },
      "source": [
        "X_train, X_test, y_train, y_test = train_test_split(X, y,\n",
        "                                                    stratify = y,\n",
        "                                                    random_state = rs)\n",
        "\n",
        "# stratify = y: each set contains approximately the same percentage of the y target"
      ],
      "execution_count": null,
      "outputs": []
    },
    {
      "cell_type": "code",
      "metadata": {
        "colab": {
          "base_uri": "https://localhost:8080/"
        },
        "id": "oAT2md-_a3Qd",
        "outputId": "18ecab39-03af-46ac-eddf-3201e5c85d7b"
      },
      "source": [
        "print(f'X train size: {len(X_train)} || y train size: {len(y_train)}')\n",
        "print(f'X test size: {len(X_test)} || y train size: {len(y_test)}')"
      ],
      "execution_count": null,
      "outputs": [
        {
          "output_type": "stream",
          "text": [
            "X train size: 264 || y train size: 264\n",
            "X test size: 88 || y train size: 88\n"
          ],
          "name": "stdout"
        }
      ]
    },
    {
      "cell_type": "markdown",
      "metadata": {
        "id": "aelCFM1RezbC"
      },
      "source": [
        "<a name=\"metric\"></a>\n",
        "# 6 What metric should we choose to start modelling?"
      ]
    },
    {
      "cell_type": "markdown",
      "metadata": {
        "id": "EANdpsPEe3TU"
      },
      "source": [
        "One of the most difficult parts in creating a machine learning project is picking the best metric that better suits each problem.\n",
        "\n",
        "In this case, our task is to predict admission to the ICU of confirmed COVID-19 cases.\n",
        "\n",
        "\n",
        "**So let's think a little about it:**\n",
        "\n",
        "In this case of ICU prediction, we want to be absolutely sure that we send the right patients for the ICU, so we need to get it right most of the time. This type of prediction is what we call **True Positive**, where we predict that a patient that needs to go to the ICU really goes to the ICU.\n",
        "\n",
        "But we also have to think about not seending too many patients to the ICU when in fact they don't need to go, so as not to overwhelm the healthcare system with more patients than it can accomodate. That's why we always have to keep in mind the problem we are dealing with when modelling.\n",
        "\n",
        "So we want to lower the number of patients that we predict as going to the ICU but in fact they don't need to go. This is called the **False Positives**, and we prefer a lower number of False Positives for this particular problems.\n",
        "\n",
        "Another thing to take into consideration is the number of **False Negatives**, that is, when a patient needs to go to the ICU but we predict that the patient doesn't need to. This is something we want to avoid, because it could potentially lead to the patient's death, so it is an unacceptable error.\n",
        "\n",
        "**To recap:**\n",
        "- we want more True Positives (TP)\n",
        "- less False Positives (FP)\n",
        "- less False Negatives (FN)\n",
        "\n",
        "Then, to the question of what metric to choose... In our case, our classes are considered balanced, so even the accuracy could be a good metric. But it doesn't take into account the number of TPs or FPs.\n",
        "\n",
        "A good metric that takes into account TPs, FPs and FNs is the **F1-score**. It is defined as follows:\n",
        "\n",
        "$$\\text{F1-score} = 2\\times\\frac{\\text{Precision} \\times \\text{Recall}}{\\text{Precision} + \\text{Recall}}$$\n",
        "\n",
        "where\n",
        "\n",
        "$$\\text{Precision} = \\frac{\\text{True Positives}}{\\text{True Positives} + \\text{False Positives}}$$\n",
        "\n",
        "and\n",
        "\n",
        "$$\\text{Recall} = \\frac{\\text{True Positives}}{\\text{True Positives} + \\text{True Negatives}}$$\n",
        "\n",
        "So whenever the number of TPs increases, the precision also increases. And when the number of FNs increase, the precision decreases. All in all, the **F1-score** seems like a good metric for this problem, because it balances these types of errors, and it is the one that we will use, but we will keep an eye on other metrics such as **precision** and the **AUC**.\n",
        "\n",
        "\n",
        "Source: [Tour of Evaluation Metrics for Classification](https://machinelearningmastery.com/tour-of-evaluation-metrics-for-imbalanced-classification/)\n"
      ]
    },
    {
      "cell_type": "markdown",
      "metadata": {
        "id": "1pQ_GsHBe2-8"
      },
      "source": [
        "<a name=\"dummy\"></a>\n",
        "## 6.1 Model 1: Dummy Model"
      ]
    },
    {
      "cell_type": "markdown",
      "metadata": {
        "id": "zGHUKBDxcH8c"
      },
      "source": [
        "First, we'll use a dummy model in order to have a baseline for our future models. This is a good practice when evaluating various machine learning models, as it acts as a minimum threshold of quality that of future models need in order to be considered useful.\n",
        "\n",
        "The strategy we'll use for this dummy model is to predict all values as the same value of the most frequent target variable value. That will give us a certain accuracy that will be used to evaluate future models."
      ]
    },
    {
      "cell_type": "code",
      "metadata": {
        "colab": {
          "base_uri": "https://localhost:8080/"
        },
        "id": "fcmTQ5NdYRir",
        "outputId": "303da7c6-859e-435e-de78-97b686bee436"
      },
      "source": [
        "# instantiate and fit the model\n",
        "dummy_model = DummyClassifier(strategy = 'most_frequent')\n",
        "dummy_model.fit(X_train, y_train)\n",
        "\n",
        "# calculate model accuracy\n",
        "y_prediction_dummy = dummy_model.predict(X_test)\n",
        "dummy_accuracy = accuracy_score(y_test, y_prediction_dummy)\n",
        "print(f'Accuracy of the Dummy Model: {dummy_accuracy}')"
      ],
      "execution_count": null,
      "outputs": [
        {
          "output_type": "stream",
          "text": [
            "Accuracy of the Dummy Model: 0.5340909090909091\n"
          ],
          "name": "stdout"
        }
      ]
    },
    {
      "cell_type": "markdown",
      "metadata": {
        "id": "xz2pu5p86CRl"
      },
      "source": [
        "We will calculate the following metrics just for completeness sake, but their results are already expected since this is a well-behaved model."
      ]
    },
    {
      "cell_type": "code",
      "metadata": {
        "colab": {
          "base_uri": "https://localhost:8080/",
          "height": 567
        },
        "id": "_hgSJcE99yQX",
        "outputId": "a6b54d29-4bc4-48a7-967e-7090c60c0e7e"
      },
      "source": [
        "confusion_matrix_plot(y_prediction_dummy)"
      ],
      "execution_count": null,
      "outputs": [
        {
          "output_type": "stream",
          "text": [
            "findfont: Font family ['Arial'] not found. Falling back to DejaVu Sans.\n",
            "findfont: Font family ['Arial'] not found. Falling back to DejaVu Sans.\n",
            "findfont: Font family ['Arial'] not found. Falling back to DejaVu Sans.\n"
          ],
          "name": "stderr"
        },
        {
          "output_type": "display_data",
          "data": {
            "image/png": "[encoded data removed]",
            "text/plain": [
              "<Figure size 720x504 with 2 Axes>"
            ]
          },
          "metadata": {
            "tags": [],
            "needs_background": "light"
          }
        }
      ]
    },
    {
      "cell_type": "markdown",
      "metadata": {
        "id": "YQSoxDZFCYt2"
      },
      "source": [
        "As was said before, these were the expected values, because the model predicted only the 0 class (Not ICU). So it got all True Negatives and False Negatives, with no True Positives ot False Positives."
      ]
    },
    {
      "cell_type": "code",
      "metadata": {
        "colab": {
          "base_uri": "https://localhost:8080/"
        },
        "id": "OL0fZMSnil6_",
        "outputId": "f2dce396-aec0-4acb-bc8f-ecc28f83d0ce"
      },
      "source": [
        "# auc score of one prediction\n",
        "prob_dummy = dummy_model.predict_proba(X_test)\n",
        "dummy_auc = roc_auc_score(y_test, prob_dummy[:,1])\n",
        "print(f'The AUC for the Dummy model is {dummy_auc}.')"
      ],
      "execution_count": null,
      "outputs": [
        {
          "output_type": "stream",
          "text": [
            "The AUC for the Dummy model is 0.5.\n"
          ],
          "name": "stdout"
        }
      ]
    },
    {
      "cell_type": "code",
      "metadata": {
        "colab": {
          "base_uri": "https://localhost:8080/"
        },
        "id": "s2FBkep4DLvL",
        "outputId": "7babdab6-3c0d-4b42-bf20-855c864e0b68"
      },
      "source": [
        "# again, this metric is not relevant here, but let's calculate it anyway\n",
        "run_cv_model(dummy_model, data_ml, 5, 2)"
      ],
      "execution_count": null,
      "outputs": [
        {
          "output_type": "stream",
          "text": [
            "Average AUC Score: 0.5\n",
            "AUC 95% Confidence Interval: 0.5 to 0.5\n"
          ],
          "name": "stdout"
        }
      ]
    },
    {
      "cell_type": "code",
      "metadata": {
        "id": "fgUqFajCDp2x"
      },
      "source": [
        "# just to keep it in a variable\n",
        "dummy_avg_auc = 0.5"
      ],
      "execution_count": null,
      "outputs": []
    },
    {
      "cell_type": "code",
      "metadata": {
        "colab": {
          "base_uri": "https://localhost:8080/",
          "height": 279
        },
        "id": "Z5LhsOx_Dvmd",
        "outputId": "2814a89b-ee49-421f-d5bf-e3486ac57694"
      },
      "source": [
        "plot_roc_curve(dummy_model, X_test, y_test)\n",
        "sns.despine()\n",
        "plt.show()"
      ],
      "execution_count": null,
      "outputs": [
        {
          "output_type": "display_data",
          "data": {
            "image/png": "[encoded data removed]",
            "text/plain": [
              "<Figure size 432x288 with 1 Axes>"
            ]
          },
          "metadata": {
            "tags": [],
            "needs_background": "light"
          }
        }
      ]
    },
    {
      "cell_type": "code",
      "metadata": {
        "colab": {
          "base_uri": "https://localhost:8080/"
        },
        "id": "GH436DfSjzRB",
        "outputId": "f5aeb413-d075-45a1-835e-944e3382f1ff"
      },
      "source": [
        "dummy_dict = classification_report(y_test, y_prediction_dummy, output_dict = True)\n",
        "print(classification_report(y_test, y_prediction_dummy))"
      ],
      "execution_count": null,
      "outputs": [
        {
          "output_type": "stream",
          "text": [
            "              precision    recall  f1-score   support\n",
            "\n",
            "           0       0.53      1.00      0.70        47\n",
            "           1       0.00      0.00      0.00        41\n",
            "\n",
            "    accuracy                           0.53        88\n",
            "   macro avg       0.27      0.50      0.35        88\n",
            "weighted avg       0.29      0.53      0.37        88\n",
            "\n"
          ],
          "name": "stdout"
        }
      ]
    },
    {
      "cell_type": "markdown",
      "metadata": {
        "id": "x4wbitX5hu_V"
      },
      "source": [
        "<a name=\"lazy\"></a>\n",
        "## 6.2 Model 2: Lazy Classifier"
      ]
    },
    {
      "cell_type": "markdown",
      "metadata": {
        "id": "-EqnZqjiD90Q"
      },
      "source": [
        "This is not a model _per se_, but it is a useful library used to quickly train various models and rank them by our chosen metric. This is important as a way of choosing some models in the beginning of the machine learning modelling part of our project."
      ]
    },
    {
      "cell_type": "code",
      "metadata": {
        "colab": {
          "base_uri": "https://localhost:8080/"
        },
        "id": "i_GsS8FMhtkz",
        "outputId": "ccf8fda0-9b75-452d-b751-8a7d8f1896ff"
      },
      "source": [
        "# instantiate and fit model\n",
        "lc_model = LazyClassifier(verbose = 0,\n",
        "                                 ignore_warnings = True,\n",
        "                                 predictions = False,\n",
        "                                 custom_metric = None)\n",
        "models, predictions_lazy = lc_model.fit(X_train, X_test, y_train, y_test)"
      ],
      "execution_count": null,
      "outputs": [
        {
          "output_type": "stream",
          "text": [
            "100%|██████████| 29/29 [00:02<00:00, 13.33it/s]\n"
          ],
          "name": "stderr"
        }
      ]
    },
    {
      "cell_type": "code",
      "metadata": {
        "colab": {
          "base_uri": "https://localhost:8080/",
          "height": 236
        },
        "id": "vUeuPw-OiFSi",
        "outputId": "77a36985-132e-4c52-fe44-9798d04be087"
      },
      "source": [
        "models.head(5)"
      ],
      "execution_count": null,
      "outputs": [
        {
          "output_type": "execute_result",
          "data": {
            "text/html": [
              "<div>\n",
              "<style scoped>\n",
              "    .dataframe tbody tr th:only-of-type {\n",
              "        vertical-align: middle;\n",
              "    }\n",
              "\n",
              "    .dataframe tbody tr th {\n",
              "        vertical-align: top;\n",
              "    }\n",
              "\n",
              "    .dataframe thead th {\n",
              "        text-align: right;\n",
              "    }\n",
              "</style>\n",
              "<table border=\"1\" class=\"dataframe\">\n",
              "  <thead>\n",
              "    <tr style=\"text-align: right;\">\n",
              "      <th></th>\n",
              "      <th>Accuracy</th>\n",
              "      <th>Balanced Accuracy</th>\n",
              "      <th>ROC AUC</th>\n",
              "      <th>F1 Score</th>\n",
              "      <th>Time Taken</th>\n",
              "    </tr>\n",
              "    <tr>\n",
              "      <th>Model</th>\n",
              "      <th></th>\n",
              "      <th></th>\n",
              "      <th></th>\n",
              "      <th></th>\n",
              "      <th></th>\n",
              "    </tr>\n",
              "  </thead>\n",
              "  <tbody>\n",
              "    <tr>\n",
              "      <th>RandomForestClassifier</th>\n",
              "      <td>0.78</td>\n",
              "      <td>0.78</td>\n",
              "      <td>0.78</td>\n",
              "      <td>0.78</td>\n",
              "      <td>0.25</td>\n",
              "    </tr>\n",
              "    <tr>\n",
              "      <th>ExtraTreesClassifier</th>\n",
              "      <td>0.78</td>\n",
              "      <td>0.78</td>\n",
              "      <td>0.78</td>\n",
              "      <td>0.78</td>\n",
              "      <td>0.17</td>\n",
              "    </tr>\n",
              "    <tr>\n",
              "      <th>LGBMClassifier</th>\n",
              "      <td>0.76</td>\n",
              "      <td>0.76</td>\n",
              "      <td>0.76</td>\n",
              "      <td>0.76</td>\n",
              "      <td>0.08</td>\n",
              "    </tr>\n",
              "    <tr>\n",
              "      <th>AdaBoostClassifier</th>\n",
              "      <td>0.76</td>\n",
              "      <td>0.76</td>\n",
              "      <td>0.76</td>\n",
              "      <td>0.76</td>\n",
              "      <td>0.17</td>\n",
              "    </tr>\n",
              "    <tr>\n",
              "      <th>BaggingClassifier</th>\n",
              "      <td>0.76</td>\n",
              "      <td>0.75</td>\n",
              "      <td>0.75</td>\n",
              "      <td>0.76</td>\n",
              "      <td>0.08</td>\n",
              "    </tr>\n",
              "  </tbody>\n",
              "</table>\n",
              "</div>"
            ],
            "text/plain": [
              "                        Accuracy  Balanced Accuracy  ...  F1 Score  Time Taken\n",
              "Model                                                ...                      \n",
              "RandomForestClassifier      0.78               0.78  ...      0.78        0.25\n",
              "ExtraTreesClassifier        0.78               0.78  ...      0.78        0.17\n",
              "LGBMClassifier              0.76               0.76  ...      0.76        0.08\n",
              "AdaBoostClassifier          0.76               0.76  ...      0.76        0.17\n",
              "BaggingClassifier           0.76               0.75  ...      0.76        0.08\n",
              "\n",
              "[5 rows x 5 columns]"
            ]
          },
          "metadata": {
            "tags": []
          },
          "execution_count": 25
        }
      ]
    },
    {
      "cell_type": "markdown",
      "metadata": {
        "id": "rn95hfPskewA"
      },
      "source": [
        "The models chosen from the Lazy Predict library are:\n",
        "\n",
        "- **RandomForestClassifier**\n",
        "- **LGBMClassifer**\n",
        "- **AdaBoostClassifier**\n",
        "\n",
        "ExtraTreeClassifier will not be used because after testing it gave the same results as RandomForestClassifier. This happens because it uses the same method of modelling: random trees.\n",
        "\n",
        "We'll also be using **LogisticRegression** and **XGBoostClassifier**. The former because it is the epitome of binary classification, and the former because it is widely used in many competitions for its great power in predicting."
      ]
    },
    {
      "cell_type": "markdown",
      "metadata": {
        "id": "mUE5Fmgqkgs1"
      },
      "source": [
        "<a name=\"random\"></a>\n",
        "## 6.3 Model 3: RandomForestClassifier"
      ]
    },
    {
      "cell_type": "markdown",
      "metadata": {
        "id": "6USR7JZkHjux"
      },
      "source": [
        "From the documentation:\n",
        "\n",
        "> A random forest is a meta estimator that fits a number of decision tree classifiers on various sub-samples of the dataset and uses averaging to improve the predictive accuracy and control over-fitting.\n",
        "\n",
        "Source: [RandomForestClassifier](https://scikit-learn.org/stable/modules/generated/sklearn.ensemble.RandomForestClassifier.html)"
      ]
    },
    {
      "cell_type": "markdown",
      "metadata": {
        "id": "j-Mqi_XqEPhr"
      },
      "source": [
        "### Default Model"
      ]
    },
    {
      "cell_type": "markdown",
      "metadata": {
        "id": "pCeZ4W94H20P"
      },
      "source": [
        "Even though we already used this model with no tuning in the Lazy Predict library, it's important to check it again, because the mentioned library tends to pre-process the data before fitting and training, giving different results.\n",
        "\n",
        "This is just a quick step, to act as a sanity check for our models."
      ]
    },
    {
      "cell_type": "code",
      "metadata": {
        "colab": {
          "base_uri": "https://localhost:8080/"
        },
        "id": "sJYUhfFYIYW_",
        "outputId": "822ca648-5301-4bff-9a13-0f1c982073bc"
      },
      "source": [
        "rfc_model = RandomForestClassifier()\n",
        "rfc_model.fit(X_train, y_train)\n",
        "\n",
        "y_prediction_rfc = rfc_model.predict(X_test)\n",
        "accuracy_score(y_test, y_prediction_rfc)"
      ],
      "execution_count": null,
      "outputs": [
        {
          "output_type": "execute_result",
          "data": {
            "text/plain": [
              "0.7386363636363636"
            ]
          },
          "metadata": {
            "tags": []
          },
          "execution_count": 26
        }
      ]
    },
    {
      "cell_type": "markdown",
      "metadata": {
        "id": "r96B_R65EaME"
      },
      "source": [
        "### Tuned Model"
      ]
    },
    {
      "cell_type": "markdown",
      "metadata": {
        "id": "9Us23a8yvZCv"
      },
      "source": [
        "I previously tested the ```GridSearchCV``` with other parameters, but limited the number of relevant parameters so as to reduce the computation time for the notebook."
      ]
    },
    {
      "cell_type": "code",
      "metadata": {
        "colab": {
          "base_uri": "https://localhost:8080/"
        },
        "id": "0nQzR2jeld5L",
        "outputId": "d74d27f1-49b3-409f-995f-3db44fe6e049"
      },
      "source": [
        "rfc_model = RandomForestClassifier()\n",
        "\n",
        "params = {\n",
        "    'n_estimators': [10, 50, 100, 250],\n",
        "    'n_jobs': [-1],\n",
        "    'random_state': [rs],\n",
        "    'max_features': ['sqrt', 'auto', 'log2']\n",
        "}\n",
        "\n",
        "\n",
        "rfc_search = GridSearchCV(rfc_model,\n",
        "                          params, \n",
        "                          scoring = 'roc_auc',\n",
        "                          error_score = 'raise',\n",
        "                          n_jobs = -1,\n",
        "                          verbose = 0,\n",
        "                          cv = 5)\n",
        "\n",
        "rfc_search.fit(X_train, y_train)"
      ],
      "execution_count": null,
      "outputs": [
        {
          "output_type": "execute_result",
          "data": {
            "text/plain": [
              "GridSearchCV(cv=5, error_score='raise', estimator=RandomForestClassifier(),\n",
              "             n_jobs=-1,\n",
              "             param_grid={'max_features': ['sqrt', 'auto', 'log2'],\n",
              "                         'n_estimators': [10, 50, 100, 250], 'n_jobs': [-1],\n",
              "                         'random_state': [84097]},\n",
              "             scoring='roc_auc')"
            ]
          },
          "metadata": {
            "tags": []
          },
          "execution_count": 27
        }
      ]
    },
    {
      "cell_type": "code",
      "metadata": {
        "colab": {
          "base_uri": "https://localhost:8080/"
        },
        "id": "FP95QhYJp-Fq",
        "outputId": "13dbafa5-60f9-4708-94a2-22e7f7aa1eca"
      },
      "source": [
        "rfc_search.best_params_"
      ],
      "execution_count": null,
      "outputs": [
        {
          "output_type": "execute_result",
          "data": {
            "text/plain": [
              "{'max_features': 'log2',\n",
              " 'n_estimators': 100,\n",
              " 'n_jobs': -1,\n",
              " 'random_state': 84097}"
            ]
          },
          "metadata": {
            "tags": []
          },
          "execution_count": 28
        }
      ]
    },
    {
      "cell_type": "code",
      "metadata": {
        "colab": {
          "base_uri": "https://localhost:8080/"
        },
        "id": "X9mKcEqyqA3P",
        "outputId": "6e1088d5-6b49-495e-c6f5-bf6ed7195662"
      },
      "source": [
        "# refit the model with the improved parameters\n",
        "rfc_model = rfc_search.best_estimator_\n",
        "rfc_model.fit(X_train, y_train)"
      ],
      "execution_count": null,
      "outputs": [
        {
          "output_type": "execute_result",
          "data": {
            "text/plain": [
              "RandomForestClassifier(max_features='log2', n_jobs=-1, random_state=84097)"
            ]
          },
          "metadata": {
            "tags": []
          },
          "execution_count": 29
        }
      ]
    },
    {
      "cell_type": "markdown",
      "metadata": {
        "id": "pag573bMFBU0"
      },
      "source": [
        "### Metrics"
      ]
    },
    {
      "cell_type": "code",
      "metadata": {
        "colab": {
          "base_uri": "https://localhost:8080/"
        },
        "id": "OG-lYBa_E9QW",
        "outputId": "f926a72b-84db-46ae-ff41-d6013eeb293c"
      },
      "source": [
        "y_prediction_rfc = rfc_model.predict(X_test)\n",
        "rfc_accuracy = accuracy_score(y_test, y_prediction_rfc)\n",
        "print(f'The accuracy for the RandomForestClassifier model is {rfc_accuracy}')"
      ],
      "execution_count": null,
      "outputs": [
        {
          "output_type": "stream",
          "text": [
            "The accuracy for the RandomForestClassifier model is 0.7386363636363636\n"
          ],
          "name": "stdout"
        }
      ]
    },
    {
      "cell_type": "markdown",
      "metadata": {
        "id": "NBTIF2oJJT6O"
      },
      "source": [
        "The accuracy is the same as the default model and less than the accuracy obtained from the Lazy Predict library."
      ]
    },
    {
      "cell_type": "code",
      "metadata": {
        "colab": {
          "base_uri": "https://localhost:8080/",
          "height": 513
        },
        "id": "SehOacxjlRwn",
        "outputId": "5840dbab-9bde-4f61-ce66-0f16ab6e3d55"
      },
      "source": [
        "confusion_matrix_plot(y_prediction_rfc)"
      ],
      "execution_count": null,
      "outputs": [
        {
          "output_type": "display_data",
          "data": {
            "image/png": "[encoded data removed]",
            "text/plain": [
              "<Figure size 720x504 with 2 Axes>"
            ]
          },
          "metadata": {
            "tags": [],
            "needs_background": "light"
          }
        }
      ]
    },
    {
      "cell_type": "code",
      "metadata": {
        "colab": {
          "base_uri": "https://localhost:8080/"
        },
        "id": "w3RGu1Y6lTPX",
        "outputId": "f9d9d3ea-4ca4-489f-fae9-d2c10145c881"
      },
      "source": [
        "# auc from the model run only once\n",
        "prob_rfc = rfc_model.predict_proba(X_test)\n",
        "rfc_auc = roc_auc_score(y_test, prob_rfc[:,1])\n",
        "print(f'The AUC for the RandomForestClassifier model is {rfc_auc}')"
      ],
      "execution_count": null,
      "outputs": [
        {
          "output_type": "stream",
          "text": [
            "The AUC for the RandomForestClassifier model is 0.856772184743124\n"
          ],
          "name": "stdout"
        }
      ]
    },
    {
      "cell_type": "code",
      "metadata": {
        "colab": {
          "base_uri": "https://localhost:8080/"
        },
        "id": "md8jfPwf5HAA",
        "outputId": "daff94b2-087a-410e-a0e8-d9a3dc8767e5"
      },
      "source": [
        "# average auc using cross validation\n",
        "run_cv_model(rfc_model, data_ml, 5, 2)"
      ],
      "execution_count": null,
      "outputs": [
        {
          "output_type": "stream",
          "text": [
            "Average AUC Score: 0.7984824238113711\n",
            "AUC 95% Confidence Interval: 0.685400958938143 to 0.9115638886845993\n"
          ],
          "name": "stdout"
        }
      ]
    },
    {
      "cell_type": "code",
      "metadata": {
        "id": "Mcbf4XAxn9yF"
      },
      "source": [
        "# just to keep it in a variable\n",
        "rfc_avg_auc = 0.7984824238113711"
      ],
      "execution_count": null,
      "outputs": []
    },
    {
      "cell_type": "code",
      "metadata": {
        "colab": {
          "base_uri": "https://localhost:8080/",
          "height": 279
        },
        "id": "ea7POIlqcIxH",
        "outputId": "0e9fdc3b-18b2-4ba8-9b07-cc133869180d"
      },
      "source": [
        "plot_roc_curve(rfc_model, X_test, y_test)\n",
        "sns.despine()\n",
        "plt.show()"
      ],
      "execution_count": null,
      "outputs": [
        {
          "output_type": "display_data",
          "data": {
            "image/png": "[encoded data removed]",
            "text/plain": [
              "<Figure size 432x288 with 1 Axes>"
            ]
          },
          "metadata": {
            "tags": [],
            "needs_background": "light"
          }
        }
      ]
    },
    {
      "cell_type": "code",
      "metadata": {
        "colab": {
          "base_uri": "https://localhost:8080/"
        },
        "id": "e-KgWe0-laSK",
        "outputId": "4d85e001-cc80-4b80-9641-f6d338001a3d"
      },
      "source": [
        "rfc_dict = classification_report(y_test, y_prediction_rfc, output_dict = True)\n",
        "print(classification_report(y_test, y_prediction_rfc))"
      ],
      "execution_count": null,
      "outputs": [
        {
          "output_type": "stream",
          "text": [
            "              precision    recall  f1-score   support\n",
            "\n",
            "           0       0.73      0.81      0.77        47\n",
            "           1       0.75      0.66      0.70        41\n",
            "\n",
            "    accuracy                           0.74        88\n",
            "   macro avg       0.74      0.73      0.73        88\n",
            "weighted avg       0.74      0.74      0.74        88\n",
            "\n"
          ],
          "name": "stdout"
        }
      ]
    },
    {
      "cell_type": "markdown",
      "metadata": {
        "id": "-5WwrYOUzLGM"
      },
      "source": [
        "<a name=\"lgbm\"></a>\n",
        "## 6.4 Model 4: LGBMClassifier"
      ]
    },
    {
      "cell_type": "markdown",
      "metadata": {
        "id": "7R9YnFQJKmks"
      },
      "source": [
        "From the documentation:\n",
        "\n",
        "> Light GBM is a gradient boosting framework that uses tree based learning algorithm. Light GBM grows tree vertically while other algorithm grows trees horizontally.\n",
        "\n",
        "_Source:_ [LGBMClassifier Documentation](https://lightgbm.readthedocs.io/en/latest/pythonapi/lightgbm.LGBMClassifier.html)"
      ]
    },
    {
      "cell_type": "markdown",
      "metadata": {
        "id": "3StnIurrGVie"
      },
      "source": [
        "### Default Model"
      ]
    },
    {
      "cell_type": "code",
      "metadata": {
        "colab": {
          "base_uri": "https://localhost:8080/"
        },
        "id": "w9FVlCwK72Dx",
        "outputId": "37eca843-d747-401b-fc98-5cd36629b3b4"
      },
      "source": [
        "lgb_model = lgb.LGBMClassifier(objective = 'binary')\n",
        "lgb_model.fit(X_train, y_train)\n",
        "\n",
        "y_pred = lgb_model.predict(X_test)\n",
        "accuracy_score(y_pred, y_test)"
      ],
      "execution_count": null,
      "outputs": [
        {
          "output_type": "execute_result",
          "data": {
            "text/plain": [
              "0.7272727272727273"
            ]
          },
          "metadata": {
            "tags": []
          },
          "execution_count": 37
        }
      ]
    },
    {
      "cell_type": "markdown",
      "metadata": {
        "id": "rEx82gntGh_W"
      },
      "source": [
        "### Tuned Model"
      ]
    },
    {
      "cell_type": "code",
      "metadata": {
        "id": "4k6l8VY9zJZu"
      },
      "source": [
        "param_grid = {\n",
        "    'num_leaves': [31, 127],\n",
        "    'reg_alpha': [0.1, 0.5],\n",
        "    'min_data_in_leaf': [30, 50, 100, 300, 400],\n",
        "    'lambda_l1': [0, 1, 1.5],\n",
        "    'lambda_l2': [0, 1]\n",
        "    }\n",
        "\n",
        "lgb_estimator = lgb.LGBMClassifier(objective='binary',\n",
        "                                   num_boost_round = 2000,\n",
        "                                   learning_rate = 0.01,\n",
        "                                   metric = 'roc_auc')\n",
        "\n",
        "gsearch = GridSearchCV(estimator = lgb_estimator,\n",
        "                       param_grid = param_grid,\n",
        "                       cv = 5)\n",
        "\n",
        "lgb_model = gsearch.fit(X = X_train, y = y_train)"
      ],
      "execution_count": null,
      "outputs": []
    },
    {
      "cell_type": "code",
      "metadata": {
        "colab": {
          "base_uri": "https://localhost:8080/"
        },
        "id": "al_ZsAoEzhzy",
        "outputId": "37884665-a22f-418d-a34d-791313e559b3"
      },
      "source": [
        "gsearch.best_params_"
      ],
      "execution_count": null,
      "outputs": [
        {
          "output_type": "execute_result",
          "data": {
            "text/plain": [
              "{'lambda_l1': 1.5,\n",
              " 'lambda_l2': 1,\n",
              " 'min_data_in_leaf': 30,\n",
              " 'num_leaves': 31,\n",
              " 'reg_alpha': 0.1}"
            ]
          },
          "metadata": {
            "tags": []
          },
          "execution_count": 39
        }
      ]
    },
    {
      "cell_type": "code",
      "metadata": {
        "colab": {
          "base_uri": "https://localhost:8080/"
        },
        "id": "7yEv4zyRzvFI",
        "outputId": "ef03f6e3-8058-4999-90ee-c8332c6e8ad2"
      },
      "source": [
        "lgb_model = gsearch.best_estimator_\n",
        "lgb_model.fit(X_train, y_train)"
      ],
      "execution_count": null,
      "outputs": [
        {
          "output_type": "execute_result",
          "data": {
            "text/plain": [
              "LGBMClassifier(lambda_l1=1.5, lambda_l2=1, learning_rate=0.01, metric='roc_auc',\n",
              "               min_data_in_leaf=30, num_boost_round=2000, objective='binary',\n",
              "               reg_alpha=0.1)"
            ]
          },
          "metadata": {
            "tags": []
          },
          "execution_count": 40
        }
      ]
    },
    {
      "cell_type": "markdown",
      "metadata": {
        "id": "etCo5KuvHp0e"
      },
      "source": [
        "### Metrics"
      ]
    },
    {
      "cell_type": "code",
      "metadata": {
        "colab": {
          "base_uri": "https://localhost:8080/"
        },
        "id": "LfH19-4VHpJS",
        "outputId": "e0c32fe3-e7c5-4f9d-df9a-22de14a439a5"
      },
      "source": [
        "y_prediction_lgb = lgb_model.predict(X_test)\n",
        "lgb_accuracy = accuracy_score(y_test, y_prediction_lgb)\n",
        "print(f'The accuracy for the LGBMClassifier model is {lgb_accuracy}.')"
      ],
      "execution_count": null,
      "outputs": [
        {
          "output_type": "stream",
          "text": [
            "The accuracy for the LGBMClassifier model is 0.75.\n"
          ],
          "name": "stdout"
        }
      ]
    },
    {
      "cell_type": "code",
      "metadata": {
        "colab": {
          "base_uri": "https://localhost:8080/",
          "height": 513
        },
        "id": "USwn9sSNh_mL",
        "outputId": "b7405aba-f5b8-4d36-ac7a-23f1728c5261"
      },
      "source": [
        "confusion_matrix_plot(y_prediction_lgb)"
      ],
      "execution_count": null,
      "outputs": [
        {
          "output_type": "display_data",
          "data": {
            "image/png": "[encoded data removed]",
            "text/plain": [
              "<Figure size 720x504 with 2 Axes>"
            ]
          },
          "metadata": {
            "tags": [],
            "needs_background": "light"
          }
        }
      ]
    },
    {
      "cell_type": "code",
      "metadata": {
        "colab": {
          "base_uri": "https://localhost:8080/"
        },
        "id": "MazSDGT-zGBp",
        "outputId": "128aea53-8bf3-4bc2-be20-a2920560ad0f"
      },
      "source": [
        "# single auc\n",
        "prob_lgbm = lgb_model.predict_proba(X_test)\n",
        "lgb_auc = roc_auc_score(y_test, prob_rfc[:,1])\n",
        "lgb_auc"
      ],
      "execution_count": null,
      "outputs": [
        {
          "output_type": "execute_result",
          "data": {
            "text/plain": [
              "0.856772184743124"
            ]
          },
          "metadata": {
            "tags": []
          },
          "execution_count": 43
        }
      ]
    },
    {
      "cell_type": "code",
      "metadata": {
        "id": "-qnDTxMkBjL0"
      },
      "source": [
        "# time taken: 22 minutes\n",
        "# run_cv_model(lgb_model, data_ml, 5, 2)"
      ],
      "execution_count": null,
      "outputs": []
    },
    {
      "cell_type": "markdown",
      "metadata": {
        "id": "rbZytz96HGrZ"
      },
      "source": [
        "Average AUC Score: 0.7800572627052891\n",
        "\n",
        "AUC 95% Confidence Interval: 0.6672284392238399 to 0.8928860861867383"
      ]
    },
    {
      "cell_type": "code",
      "metadata": {
        "id": "O_vEW-HTjRXw"
      },
      "source": [
        "# to save it in a variable\n",
        "# instead of waiting 22 minutes for the model to run\n",
        "lgb_avg_auc =  0.7800572627052891 "
      ],
      "execution_count": null,
      "outputs": []
    },
    {
      "cell_type": "code",
      "metadata": {
        "colab": {
          "base_uri": "https://localhost:8080/",
          "height": 297
        },
        "id": "z04uuunFv-yb",
        "outputId": "b3e40fb4-0401-4670-8f1f-e63da1fd0e90"
      },
      "source": [
        "plot_roc_curve(lgb_model, X_test, y_test)\n",
        "sns.despine()\n",
        "plt.plot()"
      ],
      "execution_count": null,
      "outputs": [
        {
          "output_type": "execute_result",
          "data": {
            "text/plain": [
              "[]"
            ]
          },
          "metadata": {
            "tags": []
          },
          "execution_count": 46
        },
        {
          "output_type": "display_data",
          "data": {
            "image/png": "[encoded data removed]",
            "text/plain": [
              "<Figure size 432x288 with 1 Axes>"
            ]
          },
          "metadata": {
            "tags": [],
            "needs_background": "light"
          }
        }
      ]
    },
    {
      "cell_type": "code",
      "metadata": {
        "colab": {
          "base_uri": "https://localhost:8080/"
        },
        "id": "26OTsHcribHP",
        "outputId": "8ae44e9b-1056-4ada-eaf5-63420a78a4c6"
      },
      "source": [
        "lgb_dict = classification_report(y_test, y_prediction_lgb, output_dict = True)\n",
        "print(classification_report(y_test, y_prediction_lgb))"
      ],
      "execution_count": null,
      "outputs": [
        {
          "output_type": "stream",
          "text": [
            "              precision    recall  f1-score   support\n",
            "\n",
            "           0       0.76      0.79      0.77        47\n",
            "           1       0.74      0.71      0.72        41\n",
            "\n",
            "    accuracy                           0.75        88\n",
            "   macro avg       0.75      0.75      0.75        88\n",
            "weighted avg       0.75      0.75      0.75        88\n",
            "\n"
          ],
          "name": "stdout"
        }
      ]
    },
    {
      "cell_type": "markdown",
      "metadata": {
        "id": "q3IeI12k0FqE"
      },
      "source": [
        "<a name=\"abc\"></a>\n",
        "## 6.5 Model 5: AdaBoostClassifier"
      ]
    },
    {
      "cell_type": "markdown",
      "metadata": {
        "id": "TmYI2ZV1MiKA"
      },
      "source": [
        "From the documentation:\n",
        "\n",
        "> An AdaBoost classifier is a meta-estimator that begins by fitting a classifier on the original dataset and then fits additional copies of the classifier on the same dataset but where the weights of incorrectly classified instances are adjusted such that subsequent classifiers focus more on difficult cases.\n",
        "\n",
        "_Source:_ [AdaBoostClassifier Documentation](https://scikit-learn.org/stable/modules/generated/sklearn.ensemble.AdaBoostClassifier.html)"
      ]
    },
    {
      "cell_type": "markdown",
      "metadata": {
        "id": "cqcokFQuGta5"
      },
      "source": [
        "### Default Model"
      ]
    },
    {
      "cell_type": "code",
      "metadata": {
        "colab": {
          "base_uri": "https://localhost:8080/"
        },
        "id": "21XVvGZhMwf4",
        "outputId": "2de22a10-13ca-48ae-fc64-d22c30d5df27"
      },
      "source": [
        "abc_model = AdaBoostClassifier()\n",
        "abc_model.fit(X_train, y_train)\n",
        "\n",
        "y_prediction_abc = abc_model.predict(X_test)\n",
        "accuracy_score(y_test, y_prediction_abc)"
      ],
      "execution_count": null,
      "outputs": [
        {
          "output_type": "execute_result",
          "data": {
            "text/plain": [
              "0.7613636363636364"
            ]
          },
          "metadata": {
            "tags": []
          },
          "execution_count": 48
        }
      ]
    },
    {
      "cell_type": "markdown",
      "metadata": {
        "id": "dTLEHPG6GxFt"
      },
      "source": [
        "### Tuned Model"
      ]
    },
    {
      "cell_type": "code",
      "metadata": {
        "colab": {
          "base_uri": "https://localhost:8080/"
        },
        "id": "J4I8mV74z-03",
        "outputId": "7cc0239d-adf8-4f2a-b062-fc77dcb1bb44"
      },
      "source": [
        "abc_model = AdaBoostClassifier()\n",
        "\n",
        "params = {\n",
        "    'n_estimators': [10, 50, 100, 250],\n",
        "    'random_state': [rs],\n",
        "    'learning_rate': [0.01, 0.1, 0.3, 1]\n",
        "}\n",
        "\n",
        "abc_search = GridSearchCV(abc_model,\n",
        "                          params, \n",
        "                          scoring = 'roc_auc',\n",
        "                          error_score = 'raise',\n",
        "                          n_jobs = -1,\n",
        "                          verbose = 0,\n",
        "                          cv = 5)\n",
        "\n",
        "abc_search.fit(X_train, y_train)"
      ],
      "execution_count": null,
      "outputs": [
        {
          "output_type": "execute_result",
          "data": {
            "text/plain": [
              "GridSearchCV(cv=5, error_score='raise', estimator=AdaBoostClassifier(),\n",
              "             n_jobs=-1,\n",
              "             param_grid={'learning_rate': [0.01, 0.1, 0.3, 1],\n",
              "                         'n_estimators': [10, 50, 100, 250],\n",
              "                         'random_state': [84097]},\n",
              "             scoring='roc_auc')"
            ]
          },
          "metadata": {
            "tags": []
          },
          "execution_count": 49
        }
      ]
    },
    {
      "cell_type": "code",
      "metadata": {
        "colab": {
          "base_uri": "https://localhost:8080/"
        },
        "id": "JuMNm0fY6bSv",
        "outputId": "70f92c22-e586-491e-b374-f65c7dc73a64"
      },
      "source": [
        "abc_search.best_params_"
      ],
      "execution_count": null,
      "outputs": [
        {
          "output_type": "execute_result",
          "data": {
            "text/plain": [
              "{'learning_rate': 0.01, 'n_estimators': 250, 'random_state': 84097}"
            ]
          },
          "metadata": {
            "tags": []
          },
          "execution_count": 50
        }
      ]
    },
    {
      "cell_type": "code",
      "metadata": {
        "colab": {
          "base_uri": "https://localhost:8080/"
        },
        "id": "sJbkh4gp26IP",
        "outputId": "530e5d25-5a13-413b-b0d6-c4d89f6fd07a"
      },
      "source": [
        "abc_model = abc_search.best_estimator_\n",
        "abc_model.fit(X_train, y_train)"
      ],
      "execution_count": null,
      "outputs": [
        {
          "output_type": "execute_result",
          "data": {
            "text/plain": [
              "AdaBoostClassifier(learning_rate=0.01, n_estimators=250, random_state=84097)"
            ]
          },
          "metadata": {
            "tags": []
          },
          "execution_count": 51
        }
      ]
    },
    {
      "cell_type": "markdown",
      "metadata": {
        "id": "dS-FlcocH-DT"
      },
      "source": [
        "### Metrics"
      ]
    },
    {
      "cell_type": "code",
      "metadata": {
        "colab": {
          "base_uri": "https://localhost:8080/"
        },
        "id": "FbVgeKDfH7IZ",
        "outputId": "4fb97344-6fab-457f-9ac7-e8bc9e092902"
      },
      "source": [
        "y_prediction_abc = abc_model.predict(X_test)\n",
        "abc_accuracy = accuracy_score(y_test, y_prediction_abc)\n",
        "print(f'The accuracy of the AdaBoostMetric is {abc_accuracy}.')"
      ],
      "execution_count": null,
      "outputs": [
        {
          "output_type": "stream",
          "text": [
            "The accuracy of the AdaBoostMetric is 0.7272727272727273.\n"
          ],
          "name": "stdout"
        }
      ]
    },
    {
      "cell_type": "code",
      "metadata": {
        "colab": {
          "base_uri": "https://localhost:8080/",
          "height": 513
        },
        "id": "lt-NIcX5-djx",
        "outputId": "dc458f2d-b609-46da-e616-c2e5b71a0a54"
      },
      "source": [
        "confusion_matrix_plot(y_prediction_abc)"
      ],
      "execution_count": null,
      "outputs": [
        {
          "output_type": "display_data",
          "data": {
            "image/png": "[encoded data removed]",
            "text/plain": [
              "<Figure size 720x504 with 2 Axes>"
            ]
          },
          "metadata": {
            "tags": [],
            "needs_background": "light"
          }
        }
      ]
    },
    {
      "cell_type": "code",
      "metadata": {
        "colab": {
          "base_uri": "https://localhost:8080/"
        },
        "id": "xYROlVPR-nCX",
        "outputId": "c64f2b5c-fae0-4c23-b0ef-629d194621ca"
      },
      "source": [
        "# singl auc\n",
        "prob_abc = abc_model.predict_proba(X_test)\n",
        "abc_roc = roc_auc_score(y_test, prob_abc[:,1])\n",
        "abc_roc"
      ],
      "execution_count": null,
      "outputs": [
        {
          "output_type": "execute_result",
          "data": {
            "text/plain": [
              "0.7854177477944992"
            ]
          },
          "metadata": {
            "tags": []
          },
          "execution_count": 54
        }
      ]
    },
    {
      "cell_type": "code",
      "metadata": {
        "colab": {
          "base_uri": "https://localhost:8080/"
        },
        "id": "J58us8Zi_R7i",
        "outputId": "0b793e38-8885-434f-f0df-9d1057c283c2"
      },
      "source": [
        "# average auc with cross validation\n",
        "run_cv_model(abc_model, data_ml, 5, 2)"
      ],
      "execution_count": null,
      "outputs": [
        {
          "output_type": "stream",
          "text": [
            "Average AUC Score: 0.7513939515173067\n",
            "AUC 95% Confidence Interval: 0.6475759499882963 to 0.8552119530463171\n"
          ],
          "name": "stdout"
        }
      ]
    },
    {
      "cell_type": "code",
      "metadata": {
        "id": "KVygq9B3pEJj"
      },
      "source": [
        "# to save it in a variable\n",
        "abc_avg_auc = 0.7513939515173067"
      ],
      "execution_count": null,
      "outputs": []
    },
    {
      "cell_type": "code",
      "metadata": {
        "colab": {
          "base_uri": "https://localhost:8080/",
          "height": 297
        },
        "id": "B7e9au7YPrnE",
        "outputId": "69b59195-7bcd-4d84-84aa-d9b219de2ab0"
      },
      "source": [
        "plot_roc_curve(abc_model, X_test, y_test)\n",
        "sns.despine()\n",
        "plt.plot()"
      ],
      "execution_count": null,
      "outputs": [
        {
          "output_type": "execute_result",
          "data": {
            "text/plain": [
              "[]"
            ]
          },
          "metadata": {
            "tags": []
          },
          "execution_count": 57
        },
        {
          "output_type": "display_data",
          "data": {
            "image/png": "[encoded data removed]",
            "text/plain": [
              "<Figure size 432x288 with 1 Axes>"
            ]
          },
          "metadata": {
            "tags": [],
            "needs_background": "light"
          }
        }
      ]
    },
    {
      "cell_type": "code",
      "metadata": {
        "colab": {
          "base_uri": "https://localhost:8080/"
        },
        "id": "8yEWOt92pKR2",
        "outputId": "27ef8713-480d-4aa3-c257-615d02f390ea"
      },
      "source": [
        "abc_dict = classification_report(y_test, y_prediction_abc, output_dict = True)\n",
        "print(classification_report(y_test, y_prediction_abc))"
      ],
      "execution_count": null,
      "outputs": [
        {
          "output_type": "stream",
          "text": [
            "              precision    recall  f1-score   support\n",
            "\n",
            "           0       0.70      0.85      0.77        47\n",
            "           1       0.77      0.59      0.67        41\n",
            "\n",
            "    accuracy                           0.73        88\n",
            "   macro avg       0.74      0.72      0.72        88\n",
            "weighted avg       0.74      0.73      0.72        88\n",
            "\n"
          ],
          "name": "stdout"
        }
      ]
    },
    {
      "cell_type": "markdown",
      "metadata": {
        "id": "Fxfo78AOAxOd"
      },
      "source": [
        "<a name=\"logit\"></a>\n",
        "## 6.6 Model 6: Logistic Regression"
      ]
    },
    {
      "cell_type": "markdown",
      "metadata": {
        "id": "cn0Edy-GN_4M"
      },
      "source": [
        "From the documentation:\n",
        "\n",
        "> Logistic regression, despite its name, is a linear model for classification rather than regression. Logistic regression is also known in the literature as logit regression, maximum-entropy classification (MaxEnt) or the log-linear classifier. In this model, the probabilities describing the possible outcomes of a single trial are modeled using a logistic function.\n",
        "\n",
        "_Source:_ [Logistic Regression Documentation](https://scikit-learn.org/stable/modules/generated/sklearn.linear_model.LogisticRegression.html) "
      ]
    },
    {
      "cell_type": "markdown",
      "metadata": {
        "id": "IC4hoFogIG8i"
      },
      "source": [
        "### Default Model"
      ]
    },
    {
      "cell_type": "code",
      "metadata": {
        "colab": {
          "base_uri": "https://localhost:8080/"
        },
        "id": "qDXpn1RIOipp",
        "outputId": "a54b677b-c723-4afa-d101-f7a06e2ee9e8"
      },
      "source": [
        "lr_model = LogisticRegression()\n",
        "lr_model.fit(X_train, y_train)\n",
        "\n",
        "y_prediction_lr = lr_model.predict(X_test)\n",
        "accuracy_score(y_test, y_prediction_lr)"
      ],
      "execution_count": null,
      "outputs": [
        {
          "output_type": "execute_result",
          "data": {
            "text/plain": [
              "0.7272727272727273"
            ]
          },
          "metadata": {
            "tags": []
          },
          "execution_count": 59
        }
      ]
    },
    {
      "cell_type": "markdown",
      "metadata": {
        "id": "6pI82RiTIJfk"
      },
      "source": [
        "### Tuned Model"
      ]
    },
    {
      "cell_type": "code",
      "metadata": {
        "colab": {
          "base_uri": "https://localhost:8080/"
        },
        "id": "M85TZZRSDfog",
        "outputId": "a616d8e8-4088-4ee4-ad21-8b5ba810eb05"
      },
      "source": [
        "grid = {\n",
        "    \"C\": np.logspace(-4, 50, 50),\n",
        "    \"penalty\": [\"l1\", \"l2\"]\n",
        "    }\n",
        "\n",
        "lr_model = LogisticRegression()\n",
        "lr_search = GridSearchCV(lr_model, grid, cv = 10, scoring = 'roc_auc')\n",
        "lr_search.fit(X_train, y_train)"
      ],
      "execution_count": null,
      "outputs": [
        {
          "output_type": "execute_result",
          "data": {
            "text/plain": [
              "GridSearchCV(cv=10, estimator=LogisticRegression(),\n",
              "             param_grid={'C': array([1.00000000e-04, 1.26485522e-03, 1.59985872e-02, 2.02358965e-01,\n",
              "       2.55954792e+00, 3.23745754e+01, 4.09491506e+02, 5.17947468e+03,\n",
              "       6.55128557e+04, 8.28642773e+05, 1.04811313e+07, 1.32571137e+08,\n",
              "       1.67683294e+09, 2.12095089e+10, 2.68269580e+11, 3.39322177e+12,\n",
              "       4.29193426e+13, 5.42867544e+14, 6.86648...\n",
              "       7.19685673e+26, 9.10298178e+27, 1.15139540e+29, 1.45634848e+30,\n",
              "       1.84206997e+31, 2.32995181e+32, 2.94705170e+33, 3.72759372e+34,\n",
              "       4.71486636e+35, 5.96362332e+36, 7.54312006e+37, 9.54095476e+38,\n",
              "       1.20679264e+40, 1.52641797e+41, 1.93069773e+42, 2.44205309e+43,\n",
              "       3.08884360e+44, 3.90693994e+45, 4.94171336e+46, 6.25055193e+47,\n",
              "       7.90604321e+48, 1.00000000e+50]),\n",
              "                         'penalty': ['l1', 'l2']},\n",
              "             scoring='roc_auc')"
            ]
          },
          "metadata": {
            "tags": []
          },
          "execution_count": 60
        }
      ]
    },
    {
      "cell_type": "code",
      "metadata": {
        "colab": {
          "base_uri": "https://localhost:8080/"
        },
        "id": "Gm7WwcjtEO_w",
        "outputId": "56aae1e7-1d71-4cb3-a3c4-bd4e5042df06"
      },
      "source": [
        "lr_model = lr_search.best_estimator_\n",
        "lr_model.fit(X_train, y_train)"
      ],
      "execution_count": null,
      "outputs": [
        {
          "output_type": "execute_result",
          "data": {
            "text/plain": [
              "LogisticRegression(C=0.20235896477251555)"
            ]
          },
          "metadata": {
            "tags": []
          },
          "execution_count": 61
        }
      ]
    },
    {
      "cell_type": "markdown",
      "metadata": {
        "id": "frBm3ZnXIiV5"
      },
      "source": [
        "### Metrics"
      ]
    },
    {
      "cell_type": "code",
      "metadata": {
        "colab": {
          "base_uri": "https://localhost:8080/"
        },
        "id": "Iq4xRpV9IkXZ",
        "outputId": "4fbb8821-0aff-4bea-a4b4-f3cf9fdf4cc8"
      },
      "source": [
        "y_prediction_lr = lr_model.predict(X_test)\n",
        "lr_accuracy = accuracy_score(y_test, y_prediction_lr)\n",
        "print(f'The accuracy for the Logistic Regression model is {lr_accuracy}.')"
      ],
      "execution_count": null,
      "outputs": [
        {
          "output_type": "stream",
          "text": [
            "The accuracy for the Logistic Regression model is 0.7272727272727273.\n"
          ],
          "name": "stdout"
        }
      ]
    },
    {
      "cell_type": "code",
      "metadata": {
        "colab": {
          "base_uri": "https://localhost:8080/",
          "height": 513
        },
        "id": "d7oCNVhbJUuY",
        "outputId": "980e2a15-fb5d-4e0a-d126-ed612749fe17"
      },
      "source": [
        "confusion_matrix_plot(y_prediction_lr)"
      ],
      "execution_count": null,
      "outputs": [
        {
          "output_type": "display_data",
          "data": {
            "image/png": "[encoded data removed]",
            "text/plain": [
              "<Figure size 720x504 with 2 Axes>"
            ]
          },
          "metadata": {
            "tags": [],
            "needs_background": "light"
          }
        }
      ]
    },
    {
      "cell_type": "code",
      "metadata": {
        "colab": {
          "base_uri": "https://localhost:8080/"
        },
        "id": "QmOzVAThJkWG",
        "outputId": "33e82989-84b4-4a69-8224-aacc823a2280"
      },
      "source": [
        "# single auc\n",
        "prob_lr = lr_model.predict_proba(X_test)\n",
        "lr_auc = roc_auc_score(y_test, prob_lr[:,1])\n",
        "lr_auc"
      ],
      "execution_count": null,
      "outputs": [
        {
          "output_type": "execute_result",
          "data": {
            "text/plain": [
              "0.8147379346133887"
            ]
          },
          "metadata": {
            "tags": []
          },
          "execution_count": 64
        }
      ]
    },
    {
      "cell_type": "code",
      "metadata": {
        "colab": {
          "base_uri": "https://localhost:8080/"
        },
        "id": "-8nv0MriJyFz",
        "outputId": "a83d78c3-5738-479c-b950-17f0a7f5cbf2"
      },
      "source": [
        "# average auc from cross validation\n",
        "run_cv_model(lr_model, data_ml, 5, 2)"
      ],
      "execution_count": null,
      "outputs": [
        {
          "output_type": "stream",
          "text": [
            "Average AUC Score: 0.76443037684814\n",
            "AUC 95% Confidence Interval: 0.6365981892543888 to 0.8922625644418911\n"
          ],
          "name": "stdout"
        }
      ]
    },
    {
      "cell_type": "code",
      "metadata": {
        "id": "CtUjNXUupnY-"
      },
      "source": [
        "# to save it\n",
        "lr_avg_auc = 0.76443037684814"
      ],
      "execution_count": null,
      "outputs": []
    },
    {
      "cell_type": "code",
      "metadata": {
        "colab": {
          "base_uri": "https://localhost:8080/",
          "height": 297
        },
        "id": "GKe9zYN_Pw8I",
        "outputId": "23d71128-7a93-4a3c-d3ea-86bdfce7098f"
      },
      "source": [
        "plot_roc_curve(lr_model, X_test, y_test)\n",
        "sns.despine()\n",
        "plt.plot()"
      ],
      "execution_count": null,
      "outputs": [
        {
          "output_type": "execute_result",
          "data": {
            "text/plain": [
              "[]"
            ]
          },
          "metadata": {
            "tags": []
          },
          "execution_count": 67
        },
        {
          "output_type": "display_data",
          "data": {
            "image/png": "[encoded data removed]",
            "text/plain": [
              "<Figure size 432x288 with 1 Axes>"
            ]
          },
          "metadata": {
            "tags": [],
            "needs_background": "light"
          }
        }
      ]
    },
    {
      "cell_type": "code",
      "metadata": {
        "colab": {
          "base_uri": "https://localhost:8080/"
        },
        "id": "eSnIM4bppqe4",
        "outputId": "3e8b1c52-def6-42c9-ce45-fdadb174e5e0"
      },
      "source": [
        "lr_dict = classification_report(y_test, y_prediction_lr, output_dict = True)\n",
        "print(classification_report(y_test, y_prediction_lr))"
      ],
      "execution_count": null,
      "outputs": [
        {
          "output_type": "stream",
          "text": [
            "              precision    recall  f1-score   support\n",
            "\n",
            "           0       0.73      0.77      0.75        47\n",
            "           1       0.72      0.68      0.70        41\n",
            "\n",
            "    accuracy                           0.73        88\n",
            "   macro avg       0.73      0.72      0.72        88\n",
            "weighted avg       0.73      0.73      0.73        88\n",
            "\n"
          ],
          "name": "stdout"
        }
      ]
    },
    {
      "cell_type": "markdown",
      "metadata": {
        "id": "ix-4j5SCEWM4"
      },
      "source": [
        "<a name=\"xgboost\"></a>\n",
        "## 6.7 Model 7: XGBoost Classifier"
      ]
    },
    {
      "cell_type": "markdown",
      "metadata": {
        "id": "bdTduI2uP4Ah"
      },
      "source": [
        "From the documentation:\n",
        "\n",
        "> XGBoost is an optimized distributed gradient boosting library designed to be highly efficient, flexible and portable. It implements machine learning algorithms under the Gradient Boosting framework. XGBoost provides a parallel tree boosting (also known as GBDT, GBM) that solve many data science problems in a fast and accurate way.\n",
        "\n",
        "_Source:_ [XGBoost Documentation](https://xgboost.readthedocs.io/en/latest/)"
      ]
    },
    {
      "cell_type": "markdown",
      "metadata": {
        "id": "OAlFkidEp4lE"
      },
      "source": [
        "### Default Model"
      ]
    },
    {
      "cell_type": "code",
      "metadata": {
        "colab": {
          "base_uri": "https://localhost:8080/"
        },
        "id": "NHtAb19oP2jS",
        "outputId": "19e00eaa-678f-4f40-f34c-5be2da31ec3d"
      },
      "source": [
        "xgb_model = XGBClassifier()\n",
        "xgb_model.fit(X_train, y_train)\n",
        "\n",
        "y_prediction_xgb = xgb_model.predict(X_test)\n",
        "accuracy_score(y_test, y_prediction_xgb)"
      ],
      "execution_count": null,
      "outputs": [
        {
          "output_type": "execute_result",
          "data": {
            "text/plain": [
              "0.6931818181818182"
            ]
          },
          "metadata": {
            "tags": []
          },
          "execution_count": 69
        }
      ]
    },
    {
      "cell_type": "markdown",
      "metadata": {
        "id": "YvlNFho5p8OY"
      },
      "source": [
        "### Tuned Model"
      ]
    },
    {
      "cell_type": "code",
      "metadata": {
        "colab": {
          "base_uri": "https://localhost:8080/"
        },
        "id": "Xbds1EciFiDm",
        "outputId": "483dff54-4a8b-4b4e-ce03-89892ecf9fdd"
      },
      "source": [
        "params = {\n",
        "        'min_child_weight': [1, 5, 10],\n",
        "        'gamma': [0.5, 1, 1.5, 2, 5],\n",
        "        'subsample': [0.6, 0.8, 1.0],\n",
        "        'colsample_bytree': [0.6, 0.8, 1.0],\n",
        "        'max_depth': [3, 4, 5],\n",
        "        'n_estimators': [100, 250, 1000, 2000],\n",
        "        'learning_rate': [0.01, 0.1, 0.3, 1]\n",
        "        }\n",
        "\n",
        "xgb_model = XGBClassifier(learning_rate = 0.02,\n",
        "                          nthread = 1)\n",
        "\n",
        "skf = StratifiedKFold(n_splits = 5,\n",
        "                      shuffle = True,\n",
        "                      random_state = rs)\n",
        "\n",
        "xgb_search = RandomizedSearchCV(xgb_model,\n",
        "                                   param_distributions = params,\n",
        "                                   n_iter = 5,\n",
        "                                   scoring = 'roc_auc',\n",
        "                                   n_jobs = 100,\n",
        "                                   cv = skf.split(X_train, y_train),\n",
        "                                   verbose = 0,\n",
        "                                   random_state = rs)\n",
        "\n",
        "xgb_search.fit(X_train, y_train)"
      ],
      "execution_count": null,
      "outputs": [
        {
          "output_type": "execute_result",
          "data": {
            "text/plain": [
              "RandomizedSearchCV(cv=<generator object _BaseKFold.split at 0x7fbcd1701850>,\n",
              "                   estimator=XGBClassifier(base_score=None, booster=None,\n",
              "                                           colsample_bylevel=None,\n",
              "                                           colsample_bynode=None,\n",
              "                                           colsample_bytree=None, gamma=None,\n",
              "                                           gpu_id=None, importance_type='gain',\n",
              "                                           interaction_constraints=None,\n",
              "                                           learning_rate=0.02,\n",
              "                                           max_delta_step=None, max_depth=None,\n",
              "                                           min_child_weight=None, missing...\n",
              "                                           subsample=None, tree_method=None,\n",
              "                                           validate_parameters=None,\n",
              "                                           verbosity=None),\n",
              "                   n_iter=5, n_jobs=100,\n",
              "                   param_distributions={'colsample_bytree': [0.6, 0.8, 1.0],\n",
              "                                        'gamma': [0.5, 1, 1.5, 2, 5],\n",
              "                                        'learning_rate': [0.01, 0.1, 0.3, 1],\n",
              "                                        'max_depth': [3, 4, 5],\n",
              "                                        'min_child_weight': [1, 5, 10],\n",
              "                                        'n_estimators': [100, 250, 1000, 2000],\n",
              "                                        'subsample': [0.6, 0.8, 1.0]},\n",
              "                   random_state=84097, scoring='roc_auc')"
            ]
          },
          "metadata": {
            "tags": []
          },
          "execution_count": 70
        }
      ]
    },
    {
      "cell_type": "code",
      "metadata": {
        "colab": {
          "base_uri": "https://localhost:8080/"
        },
        "id": "ldzwDpJXHnCi",
        "outputId": "b6c8a91c-95a0-4230-db7f-32f82b960323"
      },
      "source": [
        "xgb_search.best_params_"
      ],
      "execution_count": null,
      "outputs": [
        {
          "output_type": "execute_result",
          "data": {
            "text/plain": [
              "{'colsample_bytree': 1.0,\n",
              " 'gamma': 0.5,\n",
              " 'learning_rate': 0.3,\n",
              " 'max_depth': 5,\n",
              " 'min_child_weight': 1,\n",
              " 'n_estimators': 2000,\n",
              " 'subsample': 0.8}"
            ]
          },
          "metadata": {
            "tags": []
          },
          "execution_count": 71
        }
      ]
    },
    {
      "cell_type": "code",
      "metadata": {
        "colab": {
          "base_uri": "https://localhost:8080/"
        },
        "id": "ZJVMPPB-GnRm",
        "outputId": "b7410ad4-ff37-4102-8996-671a00f6ffb7"
      },
      "source": [
        "xgb_model = xgb_search.best_estimator_\n",
        "xgb_model.fit(X_train, y_train)"
      ],
      "execution_count": null,
      "outputs": [
        {
          "output_type": "execute_result",
          "data": {
            "text/plain": [
              "XGBClassifier(base_score=0.5, booster='gbtree', colsample_bylevel=1,\n",
              "              colsample_bynode=1, colsample_bytree=1.0, gamma=0.5, gpu_id=-1,\n",
              "              importance_type='gain', interaction_constraints='',\n",
              "              learning_rate=0.3, max_delta_step=0, max_depth=5,\n",
              "              min_child_weight=1, missing=nan, monotone_constraints='()',\n",
              "              n_estimators=2000, n_jobs=1, nthread=1, num_parallel_tree=1,\n",
              "              random_state=0, reg_alpha=0, reg_lambda=1, scale_pos_weight=1,\n",
              "              subsample=0.8, tree_method='exact', validate_parameters=1,\n",
              "              verbosity=None)"
            ]
          },
          "metadata": {
            "tags": []
          },
          "execution_count": 72
        }
      ]
    },
    {
      "cell_type": "markdown",
      "metadata": {
        "id": "hyrwSskgqAi5"
      },
      "source": [
        "### Metrics"
      ]
    },
    {
      "cell_type": "code",
      "metadata": {
        "colab": {
          "base_uri": "https://localhost:8080/"
        },
        "id": "yvDFp07SqCWn",
        "outputId": "8fc501e2-fe22-4e9f-e725-6ba668ca19e9"
      },
      "source": [
        "y_prediction_xgb = xgb_model.predict(X_test)\n",
        "xgb_accuracy = accuracy_score(y_test, y_prediction_xgb)\n",
        "print(f'The accuracy for the XGBoostClassifier model is {xgb_accuracy}.')"
      ],
      "execution_count": null,
      "outputs": [
        {
          "output_type": "stream",
          "text": [
            "The accuracy for the XGBoostClassifier model is 0.75.\n"
          ],
          "name": "stdout"
        }
      ]
    },
    {
      "cell_type": "code",
      "metadata": {
        "colab": {
          "base_uri": "https://localhost:8080/",
          "height": 513
        },
        "id": "DG03R9xAqtXf",
        "outputId": "eb566930-8b41-47e3-a7b9-6d77008dfb11"
      },
      "source": [
        "confusion_matrix_plot(y_prediction_xgb)"
      ],
      "execution_count": null,
      "outputs": [
        {
          "output_type": "display_data",
          "data": {
            "image/png": "[encoded data removed]",
            "text/plain": [
              "<Figure size 720x504 with 2 Axes>"
            ]
          },
          "metadata": {
            "tags": [],
            "needs_background": "light"
          }
        }
      ]
    },
    {
      "cell_type": "code",
      "metadata": {
        "colab": {
          "base_uri": "https://localhost:8080/"
        },
        "id": "YciZKObgqxhj",
        "outputId": "247d1303-a5f8-49eb-868f-d3d5b19ca9ca"
      },
      "source": [
        "# single auc\n",
        "prob_xgb = xgb_model.predict_proba(X_test)\n",
        "xgb_auc = roc_auc_score(y_test, prob_xgb[:,1])\n",
        "xgb_auc"
      ],
      "execution_count": null,
      "outputs": [
        {
          "output_type": "execute_result",
          "data": {
            "text/plain": [
              "0.8500259470679813"
            ]
          },
          "metadata": {
            "tags": []
          },
          "execution_count": 75
        }
      ]
    },
    {
      "cell_type": "code",
      "metadata": {
        "colab": {
          "base_uri": "https://localhost:8080/"
        },
        "id": "ytjpHeNSq7wb",
        "outputId": "7bea3817-0998-4499-d2fc-e2b3b0ae8aee"
      },
      "source": [
        "# average auc with cross validation\n",
        "run_cv_model(xgb_model, data_ml, 5, 2)"
      ],
      "execution_count": null,
      "outputs": [
        {
          "output_type": "stream",
          "text": [
            "Average AUC Score: 0.7747947109789214\n",
            "AUC 95% Confidence Interval: 0.6402747689687943 to 0.9093146529890485\n"
          ],
          "name": "stdout"
        }
      ]
    },
    {
      "cell_type": "code",
      "metadata": {
        "id": "e4Tso_0YrAza"
      },
      "source": [
        "# to save it\n",
        "xgb_avg_auc = 0.7747947109789214"
      ],
      "execution_count": null,
      "outputs": []
    },
    {
      "cell_type": "code",
      "metadata": {
        "colab": {
          "base_uri": "https://localhost:8080/",
          "height": 297
        },
        "id": "8wvDnhAARFdW",
        "outputId": "d0ee199d-bbd4-4199-938f-4729288f259f"
      },
      "source": [
        "plot_roc_curve(xgb_model, X_test, y_test)\n",
        "sns.despine()\n",
        "plt.plot()"
      ],
      "execution_count": null,
      "outputs": [
        {
          "output_type": "execute_result",
          "data": {
            "text/plain": [
              "[]"
            ]
          },
          "metadata": {
            "tags": []
          },
          "execution_count": 78
        },
        {
          "output_type": "display_data",
          "data": {
            "image/png": "[encoded data removed]",
            "text/plain": [
              "<Figure size 432x288 with 1 Axes>"
            ]
          },
          "metadata": {
            "tags": [],
            "needs_background": "light"
          }
        }
      ]
    },
    {
      "cell_type": "code",
      "metadata": {
        "colab": {
          "base_uri": "https://localhost:8080/"
        },
        "id": "IzOylXqfrE15",
        "outputId": "fcf8d851-666f-41f0-9ebe-5dffdb294d1e"
      },
      "source": [
        "xgb_dict = classification_report(y_test, y_prediction_xgb, output_dict = True)\n",
        "print(classification_report(y_test, y_prediction_xgb))"
      ],
      "execution_count": null,
      "outputs": [
        {
          "output_type": "stream",
          "text": [
            "              precision    recall  f1-score   support\n",
            "\n",
            "           0       0.75      0.81      0.78        47\n",
            "           1       0.76      0.68      0.72        41\n",
            "\n",
            "    accuracy                           0.75        88\n",
            "   macro avg       0.75      0.75      0.75        88\n",
            "weighted avg       0.75      0.75      0.75        88\n",
            "\n"
          ],
          "name": "stdout"
        }
      ]
    },
    {
      "cell_type": "markdown",
      "metadata": {
        "id": "tUseJ74yJJx7"
      },
      "source": [
        "<a name=\"best\"></a>\n",
        "# 7 Best Models and Validations"
      ]
    },
    {
      "cell_type": "markdown",
      "metadata": {
        "id": "Xw4WNimnSO3f"
      },
      "source": [
        "We will know take a look at which models best performed on our chosen metric (F1-score).\n",
        "\n",
        "After that, we pick the two best models to check their feature importance. And then we'll make the ICU prediction based on the results of the first model with best metric."
      ]
    },
    {
      "cell_type": "markdown",
      "metadata": {
        "id": "aImz8e96Sy1T"
      },
      "source": [
        "<a name=\"summ\"></a>\n",
        "## 7.1 Models Summary"
      ]
    },
    {
      "cell_type": "code",
      "metadata": {
        "id": "XnbQMAkerbCE"
      },
      "source": [
        "dummy_metrics = organize_metrics('dummy')\n",
        "rfc_metrics = organize_metrics('rfc')\n",
        "lgb_metrics = organize_metrics('lgb')\n",
        "abc_metrics = organize_metrics('abc')\n",
        "lr_metrics = organize_metrics('lr')\n",
        "xgb_metrics = organize_metrics('xgb')"
      ],
      "execution_count": null,
      "outputs": []
    },
    {
      "cell_type": "code",
      "metadata": {
        "colab": {
          "base_uri": "https://localhost:8080/",
          "height": 236
        },
        "id": "t3xCvsqksgpP",
        "outputId": "6b119e47-2ea0-479b-ef63-427cdc23d150"
      },
      "source": [
        "metrics_dict = {\n",
        "    'Model_Name': ['Accuracy', 'Average AUC', 'F1-score 0', 'F1-score 1',\n",
        "                   'Precision 0', 'Precision 1', 'Recall 0', 'Recall 1'],\n",
        "    'DummyClassifier': dummy_metrics,\n",
        "    'RandomForestClassifier': rfc_metrics,\n",
        "    'LGBMClasssifier': lgb_metrics,\n",
        "    'AdaBoostClassifier': abc_metrics,\n",
        "    'LogisticRegression': lr_metrics,\n",
        "    'XGBoostClassifier': xgb_metrics\n",
        "}\n",
        "\n",
        "metrics_df = pd.DataFrame(metrics_dict)\n",
        "metrics_df.set_index('Model_Name').T.sort_values(by = 'F1-score 1', ascending = False)"
      ],
      "execution_count": null,
      "outputs": [
        {
          "output_type": "execute_result",
          "data": {
            "text/html": [
              "<div>\n",
              "<style scoped>\n",
              "    .dataframe tbody tr th:only-of-type {\n",
              "        vertical-align: middle;\n",
              "    }\n",
              "\n",
              "    .dataframe tbody tr th {\n",
              "        vertical-align: top;\n",
              "    }\n",
              "\n",
              "    .dataframe thead th {\n",
              "        text-align: right;\n",
              "    }\n",
              "</style>\n",
              "<table border=\"1\" class=\"dataframe\">\n",
              "  <thead>\n",
              "    <tr style=\"text-align: right;\">\n",
              "      <th>Model_Name</th>\n",
              "      <th>Accuracy</th>\n",
              "      <th>Average AUC</th>\n",
              "      <th>F1-score 0</th>\n",
              "      <th>F1-score 1</th>\n",
              "      <th>Precision 0</th>\n",
              "      <th>Precision 1</th>\n",
              "      <th>Recall 0</th>\n",
              "      <th>Recall 1</th>\n",
              "    </tr>\n",
              "  </thead>\n",
              "  <tbody>\n",
              "    <tr>\n",
              "      <th>LGBMClasssifier</th>\n",
              "      <td>0.75</td>\n",
              "      <td>0.78</td>\n",
              "      <td>0.77</td>\n",
              "      <td>0.72</td>\n",
              "      <td>0.76</td>\n",
              "      <td>0.74</td>\n",
              "      <td>0.79</td>\n",
              "      <td>0.71</td>\n",
              "    </tr>\n",
              "    <tr>\n",
              "      <th>XGBoostClassifier</th>\n",
              "      <td>0.75</td>\n",
              "      <td>0.77</td>\n",
              "      <td>0.78</td>\n",
              "      <td>0.72</td>\n",
              "      <td>0.75</td>\n",
              "      <td>0.76</td>\n",
              "      <td>0.81</td>\n",
              "      <td>0.68</td>\n",
              "    </tr>\n",
              "    <tr>\n",
              "      <th>RandomForestClassifier</th>\n",
              "      <td>0.74</td>\n",
              "      <td>0.80</td>\n",
              "      <td>0.77</td>\n",
              "      <td>0.70</td>\n",
              "      <td>0.73</td>\n",
              "      <td>0.75</td>\n",
              "      <td>0.81</td>\n",
              "      <td>0.66</td>\n",
              "    </tr>\n",
              "    <tr>\n",
              "      <th>LogisticRegression</th>\n",
              "      <td>0.73</td>\n",
              "      <td>0.76</td>\n",
              "      <td>0.75</td>\n",
              "      <td>0.70</td>\n",
              "      <td>0.73</td>\n",
              "      <td>0.72</td>\n",
              "      <td>0.77</td>\n",
              "      <td>0.68</td>\n",
              "    </tr>\n",
              "    <tr>\n",
              "      <th>AdaBoostClassifier</th>\n",
              "      <td>0.73</td>\n",
              "      <td>0.75</td>\n",
              "      <td>0.77</td>\n",
              "      <td>0.67</td>\n",
              "      <td>0.70</td>\n",
              "      <td>0.77</td>\n",
              "      <td>0.85</td>\n",
              "      <td>0.59</td>\n",
              "    </tr>\n",
              "    <tr>\n",
              "      <th>DummyClassifier</th>\n",
              "      <td>0.53</td>\n",
              "      <td>0.50</td>\n",
              "      <td>0.70</td>\n",
              "      <td>0.00</td>\n",
              "      <td>0.53</td>\n",
              "      <td>0.00</td>\n",
              "      <td>1.00</td>\n",
              "      <td>0.00</td>\n",
              "    </tr>\n",
              "  </tbody>\n",
              "</table>\n",
              "</div>"
            ],
            "text/plain": [
              "Model_Name              Accuracy  Average AUC  ...  Recall 0  Recall 1\n",
              "LGBMClasssifier             0.75         0.78  ...      0.79      0.71\n",
              "XGBoostClassifier           0.75         0.77  ...      0.81      0.68\n",
              "RandomForestClassifier      0.74         0.80  ...      0.81      0.66\n",
              "LogisticRegression          0.73         0.76  ...      0.77      0.68\n",
              "AdaBoostClassifier          0.73         0.75  ...      0.85      0.59\n",
              "DummyClassifier             0.53         0.50  ...      1.00      0.00\n",
              "\n",
              "[6 rows x 8 columns]"
            ]
          },
          "metadata": {
            "tags": []
          },
          "execution_count": 88
        }
      ]
    },
    {
      "cell_type": "markdown",
      "metadata": {
        "id": "61klynyzwaPW"
      },
      "source": [
        "Our chosen model would need a good F1-score on the class 1 (the ICU class).\n",
        "\n",
        "Looking at our table, we see that the top 2 models on this metric are\n",
        "- **LGBMClassifier** and\n",
        "- **XGBoostClassifier**.\n",
        "\n",
        "By checking, for example, the Precision 1, XGBoostClassifier also performs well, as well as having more accuracy that most models."
      ]
    },
    {
      "cell_type": "markdown",
      "metadata": {
        "id": "YBR29YolSlXt"
      },
      "source": [
        "<a name=\"feat\"></a>\n",
        "## 7.2 Feature Importance"
      ]
    },
    {
      "cell_type": "markdown",
      "metadata": {
        "id": "2oilHRZlgJQ-"
      },
      "source": [
        "### XGBoostClassifier"
      ]
    },
    {
      "cell_type": "code",
      "metadata": {
        "id": "naIUdqJx1T4S",
        "colab": {
          "base_uri": "https://localhost:8080/",
          "height": 468
        },
        "outputId": "45161bbc-4825-4553-fd46-c64a89718d19"
      },
      "source": [
        "feat_import_xgb = pd.Series(xgb_model.feature_importances_, index = X_train.columns)\n",
        "ax = feat_import_xgb.nlargest(15).sort_values(ascending = True).plot(kind = 'barh',\n",
        "                                                                      figsize = (10, 7))\n",
        "plt.title('Feature Importance - XGBoostClassifier', fontsize = 22, color = GRAY1)\n",
        "sns.despine()\n",
        "plt.show()"
      ],
      "execution_count": null,
      "outputs": [
        {
          "output_type": "stream",
          "text": [
            "findfont: Font family ['Arial'] not found. Falling back to DejaVu Sans.\n"
          ],
          "name": "stderr"
        },
        {
          "output_type": "display_data",
          "data": {
            "image/png": "[encoded data removed]",
            "text/plain": [
              "<Figure size 720x504 with 1 Axes>"
            ]
          },
          "metadata": {
            "tags": [],
            "needs_background": "light"
          }
        }
      ]
    },
    {
      "cell_type": "markdown",
      "metadata": {
        "id": "Ooup9w5khzaO"
      },
      "source": [
        "**Does this make sense?**\n",
        "\n",
        "Let's see:\n",
        "\n",
        "The most important feature that XGBoostClassifier takes into account when modelling is ```AGE_PERCENTIL_5```. This variable represents people with ages between 60 and 70 years. This makes sense, since we all know that old age is a risk factor in COVID-19. And we also checked that in our exploratory data analysis and we've seen that people past a certain age need more ICU beds.\n",
        "\n",
        "_Source:_ [ICU outcomes and survival in patients with severe COVID-19](https://journals.plos.org/plosone/article?id=10.1371/journal.pone.0249038)\n",
        "\n",
        "From the above article:\n",
        "\n",
        "> Out of total of 1283 patients with COVID-19, 131 (10.2%) met criteria for ICU admission (**median age: 61 years** [interquartile range (IQR), 49.5–71.5]; 35.1% female).\n",
        "\n",
        "This correlates with our findings.\n",
        "\n",
        "The second most important feature is ```RESPIRATORY_RATE_MEAN```. Since COVID-19 also attacks the respiratory system, of course this feature is relevant in the ICU prediction.\n",
        "\n",
        "Another important feature is ```PCO2_VENOUS```.\n",
        "\n",
        "> Venous pCO2 was significantly higher whereas pO2 and sO2 were significantly lower in patients who tested positive for SARS-CoV-2.\n",
        "\n",
        "_Source:_ [Venous blood gas analysis in patients with COVID-19 symptoms](https://www.degruyter.com/document/doi/10.1515/labmed-2020-0126/html)"
      ]
    },
    {
      "cell_type": "code",
      "metadata": {
        "colab": {
          "base_uri": "https://localhost:8080/",
          "height": 450
        },
        "id": "0l_MsM1trail",
        "outputId": "49474498-90db-45e9-ed3e-a8bb1301b826"
      },
      "source": [
        "feat_import_xgb = pd.Series(xgb_model.feature_importances_, index = X_train.columns)\n",
        "ax = feat_import_xgb.nsmallest(15).sort_values(ascending = True).plot(kind = 'barh',\n",
        "                                                                      figsize = (10, 7))\n",
        "plt.title('Features with less Importance - XGBoostClassifier', fontsize = 22, color = GRAY1)\n",
        "sns.despine()\n",
        "plt.show()"
      ],
      "execution_count": null,
      "outputs": [
        {
          "output_type": "display_data",
          "data": {
            "image/png": "[encoded data removed]",
            "text/plain": [
              "<Figure size 720x504 with 1 Axes>"
            ]
          },
          "metadata": {
            "tags": [],
            "needs_background": "light"
          }
        }
      ]
    },
    {
      "cell_type": "markdown",
      "metadata": {
        "id": "6L-XBNbTrjBD"
      },
      "source": [
        "Looking at the features that have less importance, we have the disease groupings. This is surprising and goes against the actual understanding that certain diseases increase the risk of hospitalization for COVID-19."
      ]
    },
    {
      "cell_type": "markdown",
      "metadata": {
        "id": "8JPrvbXtqWoy"
      },
      "source": [
        "### LGBMClassifier"
      ]
    },
    {
      "cell_type": "code",
      "metadata": {
        "colab": {
          "base_uri": "https://localhost:8080/",
          "height": 450
        },
        "id": "dHhq_wb2ghbY",
        "outputId": "a6c3deb7-1148-40eb-d875-086c1cddd1cb"
      },
      "source": [
        "feat_import_lgb = pd.Series(lgb_model.feature_importances_, index = X_train.columns)\n",
        "ax = feat_import_lgb.nlargest(15).sort_values(ascending = True).plot(kind = 'barh',\n",
        "                                                                      figsize = (10, 7))\n",
        "plt.title('Feature Importance - LGBMClassifier', fontsize = 22, color = GRAY1)\n",
        "sns.despine()\n",
        "plt.show()"
      ],
      "execution_count": null,
      "outputs": [
        {
          "output_type": "display_data",
          "data": {
            "image/png": "[encoded data removed]",
            "text/plain": [
              "<Figure size 720x504 with 1 Axes>"
            ]
          },
          "metadata": {
            "tags": [],
            "needs_background": "light"
          }
        }
      ]
    },
    {
      "cell_type": "markdown",
      "metadata": {
        "id": "fftJgFgdrqMe"
      },
      "source": [
        "Here, in the LGBMClassifier, we have different features appearing as the most important for the model.\n",
        "\n",
        "The first feature, ```HEMATOCRITE```, also known as HCT, has been studied and found to be reduced in patients with COVID-19.\n",
        "\n",
        "> Our analysis has found lower HGB (124.84 ± 15.877) and reduced HCT (37.45 ± 4.685) [...]\n",
        "\n",
        "_Source:_ [Blood routine test in mild and common 2019 coronavirus (COVID-19) patients](https://www.ncbi.nlm.nih.gov/pmc/articles/PMC7414516/)"
      ]
    },
    {
      "cell_type": "code",
      "metadata": {
        "colab": {
          "base_uri": "https://localhost:8080/",
          "height": 450
        },
        "id": "39ufLLbjmiCl",
        "outputId": "3bd45905-fd0a-4a25-a949-1383941b1b40"
      },
      "source": [
        "feat_import_lgb = pd.Series(lgb_model.feature_importances_, index = X_train.columns)\n",
        "ax = feat_import_lgb.nsmallest(15).sort_values(ascending = True).plot(kind = 'barh',\n",
        "                                                                      figsize = (10, 7))\n",
        "plt.title('Features with less Importance - LGBMClassifier', fontsize = 22, color = GRAY1)\n",
        "sns.despine()\n",
        "plt.show()"
      ],
      "execution_count": null,
      "outputs": [
        {
          "output_type": "display_data",
          "data": {
            "image/png": "[encoded data removed]",
            "text/plain": [
              "<Figure size 720x504 with 1 Axes>"
            ]
          },
          "metadata": {
            "tags": [],
            "needs_background": "light"
          }
        }
      ]
    },
    {
      "cell_type": "markdown",
      "metadata": {
        "id": "hO8KXXx3tGEW"
      },
      "source": [
        "Again, we have that the disease groupings have no effect in the machine learning model."
      ]
    },
    {
      "cell_type": "markdown",
      "metadata": {
        "id": "EEKSCQ3StRVd"
      },
      "source": [
        "<a name=\"icu\"></a>\n",
        "## 7.3 ICU Prediction"
      ]
    },
    {
      "cell_type": "markdown",
      "metadata": {
        "id": "ULiSITjHtUZB"
      },
      "source": [
        "Looking at our table:"
      ]
    },
    {
      "cell_type": "code",
      "metadata": {
        "colab": {
          "base_uri": "https://localhost:8080/",
          "height": 205
        },
        "id": "XkCLO9XitEwA",
        "outputId": "3b22be32-25ac-4e31-f9aa-4004b7b683d4"
      },
      "source": [
        "metrics_df.set_index('Model_Name').T.sort_values(by = 'F1-score 1', ascending = False)"
      ],
      "execution_count": null,
      "outputs": [
        {
          "output_type": "execute_result",
          "data": {
            "text/html": [
              "<div>\n",
              "<style scoped>\n",
              "    .dataframe tbody tr th:only-of-type {\n",
              "        vertical-align: middle;\n",
              "    }\n",
              "\n",
              "    .dataframe tbody tr th {\n",
              "        vertical-align: top;\n",
              "    }\n",
              "\n",
              "    .dataframe thead th {\n",
              "        text-align: right;\n",
              "    }\n",
              "</style>\n",
              "<table border=\"1\" class=\"dataframe\">\n",
              "  <thead>\n",
              "    <tr style=\"text-align: right;\">\n",
              "      <th>Model_Name</th>\n",
              "      <th>Accuracy</th>\n",
              "      <th>Average AUC</th>\n",
              "      <th>F1-score 0</th>\n",
              "      <th>F1-score 1</th>\n",
              "      <th>Precision 0</th>\n",
              "      <th>Precision 1</th>\n",
              "      <th>Recall 0</th>\n",
              "      <th>Recall 1</th>\n",
              "    </tr>\n",
              "  </thead>\n",
              "  <tbody>\n",
              "    <tr>\n",
              "      <th>LGBM Classsifier</th>\n",
              "      <td>0.75</td>\n",
              "      <td>0.78</td>\n",
              "      <td>0.77</td>\n",
              "      <td>0.72</td>\n",
              "      <td>0.76</td>\n",
              "      <td>0.74</td>\n",
              "      <td>0.79</td>\n",
              "      <td>0.71</td>\n",
              "    </tr>\n",
              "    <tr>\n",
              "      <th>XGBoostClassifier</th>\n",
              "      <td>0.75</td>\n",
              "      <td>0.77</td>\n",
              "      <td>0.78</td>\n",
              "      <td>0.72</td>\n",
              "      <td>0.75</td>\n",
              "      <td>0.76</td>\n",
              "      <td>0.81</td>\n",
              "      <td>0.68</td>\n",
              "    </tr>\n",
              "    <tr>\n",
              "      <th>RandomForestClassifier</th>\n",
              "      <td>0.74</td>\n",
              "      <td>0.80</td>\n",
              "      <td>0.77</td>\n",
              "      <td>0.70</td>\n",
              "      <td>0.73</td>\n",
              "      <td>0.75</td>\n",
              "      <td>0.81</td>\n",
              "      <td>0.66</td>\n",
              "    </tr>\n",
              "    <tr>\n",
              "      <th>LogisticRegression</th>\n",
              "      <td>0.73</td>\n",
              "      <td>0.76</td>\n",
              "      <td>0.75</td>\n",
              "      <td>0.70</td>\n",
              "      <td>0.73</td>\n",
              "      <td>0.72</td>\n",
              "      <td>0.77</td>\n",
              "      <td>0.68</td>\n",
              "    </tr>\n",
              "    <tr>\n",
              "      <th>AdaBoostClassifier</th>\n",
              "      <td>0.73</td>\n",
              "      <td>0.75</td>\n",
              "      <td>0.77</td>\n",
              "      <td>0.67</td>\n",
              "      <td>0.70</td>\n",
              "      <td>0.77</td>\n",
              "      <td>0.85</td>\n",
              "      <td>0.59</td>\n",
              "    </tr>\n",
              "  </tbody>\n",
              "</table>\n",
              "</div>"
            ],
            "text/plain": [
              "Model_Name              Accuracy  Average AUC  ...  Recall 0  Recall 1\n",
              "LGBM Classsifier            0.75         0.78  ...      0.79      0.71\n",
              "XGBoostClassifier           0.75         0.77  ...      0.81      0.68\n",
              "RandomForestClassifier      0.74         0.80  ...      0.81      0.66\n",
              "LogisticRegression          0.73         0.76  ...      0.77      0.68\n",
              "AdaBoostClassifier          0.73         0.75  ...      0.85      0.59\n",
              "\n",
              "[5 rows x 8 columns]"
            ]
          },
          "metadata": {
            "tags": []
          },
          "execution_count": 86
        }
      ]
    },
    {
      "cell_type": "markdown",
      "metadata": {
        "id": "DV88SW7Xte4d"
      },
      "source": [
        "And with our findings up to this point, the chosen model for the ICU prediction will be LGBMClassifier.\n",
        "\n",
        "We already have its prediction in the variable ```y_prediction_lgb```. Let's check it out."
      ]
    },
    {
      "cell_type": "code",
      "metadata": {
        "colab": {
          "base_uri": "https://localhost:8080/",
          "height": 518
        },
        "id": "aYw-lR_cteJV",
        "outputId": "fb453d48-f22c-4778-9aed-ee9fe886c974"
      },
      "source": [
        "icu_predictions = pd.DataFrame()\n",
        "icu_predictions['True_Value'] = y_test\n",
        "icu_predictions['Predicted_Values'] = y_prediction_lgb\n",
        "icu_predictions.head(15)"
      ],
      "execution_count": null,
      "outputs": [
        {
          "output_type": "execute_result",
          "data": {
            "text/html": [
              "<div>\n",
              "<style scoped>\n",
              "    .dataframe tbody tr th:only-of-type {\n",
              "        vertical-align: middle;\n",
              "    }\n",
              "\n",
              "    .dataframe tbody tr th {\n",
              "        vertical-align: top;\n",
              "    }\n",
              "\n",
              "    .dataframe thead th {\n",
              "        text-align: right;\n",
              "    }\n",
              "</style>\n",
              "<table border=\"1\" class=\"dataframe\">\n",
              "  <thead>\n",
              "    <tr style=\"text-align: right;\">\n",
              "      <th></th>\n",
              "      <th>True_Value</th>\n",
              "      <th>Predicted_Values</th>\n",
              "    </tr>\n",
              "  </thead>\n",
              "  <tbody>\n",
              "    <tr>\n",
              "      <th>242</th>\n",
              "      <td>1</td>\n",
              "      <td>1</td>\n",
              "    </tr>\n",
              "    <tr>\n",
              "      <th>172</th>\n",
              "      <td>1</td>\n",
              "      <td>1</td>\n",
              "    </tr>\n",
              "    <tr>\n",
              "      <th>294</th>\n",
              "      <td>1</td>\n",
              "      <td>0</td>\n",
              "    </tr>\n",
              "    <tr>\n",
              "      <th>266</th>\n",
              "      <td>1</td>\n",
              "      <td>1</td>\n",
              "    </tr>\n",
              "    <tr>\n",
              "      <th>25</th>\n",
              "      <td>1</td>\n",
              "      <td>1</td>\n",
              "    </tr>\n",
              "    <tr>\n",
              "      <th>42</th>\n",
              "      <td>0</td>\n",
              "      <td>1</td>\n",
              "    </tr>\n",
              "    <tr>\n",
              "      <th>92</th>\n",
              "      <td>1</td>\n",
              "      <td>0</td>\n",
              "    </tr>\n",
              "    <tr>\n",
              "      <th>194</th>\n",
              "      <td>1</td>\n",
              "      <td>1</td>\n",
              "    </tr>\n",
              "    <tr>\n",
              "      <th>131</th>\n",
              "      <td>0</td>\n",
              "      <td>1</td>\n",
              "    </tr>\n",
              "    <tr>\n",
              "      <th>124</th>\n",
              "      <td>1</td>\n",
              "      <td>0</td>\n",
              "    </tr>\n",
              "    <tr>\n",
              "      <th>132</th>\n",
              "      <td>0</td>\n",
              "      <td>0</td>\n",
              "    </tr>\n",
              "    <tr>\n",
              "      <th>337</th>\n",
              "      <td>0</td>\n",
              "      <td>0</td>\n",
              "    </tr>\n",
              "    <tr>\n",
              "      <th>147</th>\n",
              "      <td>0</td>\n",
              "      <td>0</td>\n",
              "    </tr>\n",
              "    <tr>\n",
              "      <th>278</th>\n",
              "      <td>0</td>\n",
              "      <td>0</td>\n",
              "    </tr>\n",
              "    <tr>\n",
              "      <th>281</th>\n",
              "      <td>1</td>\n",
              "      <td>0</td>\n",
              "    </tr>\n",
              "  </tbody>\n",
              "</table>\n",
              "</div>"
            ],
            "text/plain": [
              "     True_Value  Predicted_Values\n",
              "242           1                 1\n",
              "172           1                 1\n",
              "294           1                 0\n",
              "266           1                 1\n",
              "25            1                 1\n",
              "42            0                 1\n",
              "92            1                 0\n",
              "194           1                 1\n",
              "131           0                 1\n",
              "124           1                 0\n",
              "132           0                 0\n",
              "337           0                 0\n",
              "147           0                 0\n",
              "278           0                 0\n",
              "281           1                 0"
            ]
          },
          "metadata": {
            "tags": []
          },
          "execution_count": 87
        }
      ]
    },
    {
      "cell_type": "markdown",
      "metadata": {
        "id": "P4WDKpCzuuxd"
      },
      "source": [
        "So now we have a prediction together with the patient identifier.\n",
        "\n",
        "The confusion matrix for this is:"
      ]
    },
    {
      "cell_type": "code",
      "metadata": {
        "colab": {
          "base_uri": "https://localhost:8080/",
          "height": 513
        },
        "id": "qRpnVyXnq3dq",
        "outputId": "24ccb01b-6746-4ff7-bcff-2a8d252ae971"
      },
      "source": [
        "confusion_matrix_plot(y_prediction_lgb)"
      ],
      "execution_count": null,
      "outputs": [
        {
          "output_type": "display_data",
          "data": {
            "image/png": "[encoded data removed]",
            "text/plain": [
              "<Figure size 720x504 with 2 Axes>"
            ]
          },
          "metadata": {
            "tags": [],
            "needs_background": "light"
          }
        }
      ]
    },
    {
      "cell_type": "markdown",
      "metadata": {
        "id": "0mXWxdv3u0Ml"
      },
      "source": [
        "<a name=\"conc\"></a>\n",
        "# 8 What can we conclude from this project?"
      ]
    },
    {
      "cell_type": "markdown",
      "metadata": {
        "id": "axHa94z_u3ID"
      },
      "source": [
        "COVID-19 has taken an enormous toll on healthcare systems all around the globe. Healthcare professionals are overworked and this raises the need for a helping hand. This can be achieved in the form of Machine Learning models used to predict the need for ICU beds for COVID-19 patients.\n",
        "\n",
        "In this project we have seen that this is possible, but this tool can never be used alone (unless its predictions were right 100% of the time, but we're far from a model that achieves that). There needs to be a healthcare professional with better judgement than our models to assess the need for ICU admission."
      ]
    },
    {
      "cell_type": "markdown",
      "metadata": {
        "id": "EtDDHtQ7uk6r"
      },
      "source": [
        "<a name=\"next\"></a>\n",
        "# 9 Going Forward..."
      ]
    },
    {
      "cell_type": "markdown",
      "metadata": {
        "id": "LznRn40H7isT"
      },
      "source": [
        "For next projects, better hyperparameter tuning could lead to improved results and predictions.\n",
        "\n",
        "This project could also be applied to other diseases, with the appropriate care and adaptations.\n",
        "\n",
        "An interesting idea could be to implement a web app (for example, a Streamlit application) that receives the relevant information for a patient (or for a group of patients) and returns the prediction for the need of said patient to go to the ICU. It could also output a confidence value for that prediction, so healthcare professionals could take a closer look at patients in which the model could not predict very well."
      ]
    },
    {
      "cell_type": "markdown",
      "metadata": {
        "id": "oZGsmsCk73Xv"
      },
      "source": [
        "<a name=\"refs\"></a>\n",
        "# 10 References"
      ]
    },
    {
      "cell_type": "markdown",
      "metadata": {
        "id": "6bzLC4EM75ZL"
      },
      "source": [
        "For the most part, I used the documentation of the following libraries:\n",
        "\n",
        "- [Pandas](https://pandas.pydata.org/)\n",
        "- [Matplotlib](https://matplotlib.org/)\n",
        "- [Numpy](https://numpy.org/)\n",
        "- [Seaborn](https://seaborn.pydata.org/)\n",
        "- [Scikit-Learn](https://scikit-learn.org/stable/)\n",
        "- [Lazy Predict](https://lazypredict.readthedocs.io/en/latest/readme.html#usage)\n",
        "\n",
        "Articles and posts that helped this project:\n",
        "\n",
        "- [COVID-19 - Clinical Data to assess diagnosis (Kaggle)](https://www.kaggle.com/S%C3%ADrio-Libanes/covid19)\n",
        "- [Tour of Evaluation Metrics for Classification](https://machinelearningmastery.com/tour-of-evaluation-metrics-for-imbalanced-classification/)\n",
        "- [ICU outcomes and survival in patients with severe COVID-19](https://journals.plos.org/plosone/article?id=10.1371/journal.pone.0249038)\n",
        "- [Venous blood gas analysis in patients with COVID-19 symptoms](https://www.degruyter.com/document/doi/10.1515/labmed-2020-0126/html)\n",
        "- [Blood routine test in mild and common 2019 coronavirus (COVID-19) patients](https://www.ncbi.nlm.nih.gov/pmc/articles/PMC7414516/)\n",
        "- [Predicting the Need for ICU Admission in COVID-19 Patients Using XGBoost](https://www.techscience.com/cmc/v69n2/43880/html)\n",
        "- [Using machine learning tools to predict outcomes for emergency department intensive care unit patients](https://www.nature.com/articles/s41598-020-77548-3)\n",
        "- [Comparing machine learning algorithms for predicting ICU admission and mortality in COVID-19](https://www.nature.com/articles/s41746-021-00456-x)\n",
        "- [Machine Learning Approach to Predicting COVID-19 Disease Severity](https://www.ncbi.nlm.nih.gov/pmc/articles/PMC8045777/)\n",
        "- [Useful Metrics to Evaluate Binary Classification Models](https://thedigitalskye.com/2021/04/19/6-useful-metrics-to-evaluate-binary-classification-models/)\n",
        "- [Metrics to Evaluate your Machine Learning Algorithm](https://towardsdatascience.com/metrics-to-evaluate-your-machine-learning-algorithm-f10ba6e38234)\n",
        "- [How to Use ROC Curves and Precision-Recall Curves for Classification in Python](https://machinelearningmastery.com/roc-curves-and-precision-recall-curves-for-classification-in-python/)"
      ]
    },
    {
      "cell_type": "markdown",
      "metadata": {
        "id": "gDVhFNEf5qvA"
      },
      "source": [
        "<a name=\"cont\"></a>\n",
        "# 11 Contacts"
      ]
    },
    {
      "cell_type": "markdown",
      "metadata": {
        "id": "Sgh50cW703Bu"
      },
      "source": [
        "Feel free to contact me for any questions or suggestions:\n",
        "\n",
        "- E-mail: carolinadiasw@gmail.com\n",
        "- Linkedin: https://linkedin/in/carodias"
      ]
    }
  ]
}